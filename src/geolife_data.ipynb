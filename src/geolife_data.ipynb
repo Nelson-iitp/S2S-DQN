{
 "cells": [
  {
   "cell_type": "markdown",
   "metadata": {},
   "source": [
    "# Geolife Trajectories Dataset  1.3\n",
    "\n",
    "This notebook demonstrates how to extract and pre-process geolife trajectories dataset.\n",
    "\n",
    "Download the geolife 1.3 trajectory dataset (available as a zip file) and extract it under relative folder named `__data__`\n",
    "\n",
    "The trajectories are stored as `.plt` files under path `__data__\\Geolife Trajectories 1.3\\Data` "
   ]
  },
  {
   "cell_type": "code",
   "execution_count": 1,
   "metadata": {},
   "outputs": [],
   "source": [
    "import os\n",
    "import pandas as pd\n",
    "import numpy as np\n",
    "from tqdm import tqdm\n",
    "import matplotlib.pyplot as plt\n",
    "\n",
    "from known import Remap\n",
    "from geolife.glds import delta_low, delta_high, xl, xh, yl, yh, sample_resolution, sample_interval"
   ]
  },
  {
   "cell_type": "markdown",
   "metadata": {},
   "source": [
    "# Read Data"
   ]
  },
  {
   "cell_type": "code",
   "execution_count": 2,
   "metadata": {},
   "outputs": [
    {
     "name": "stdout",
     "output_type": "stream",
     "text": [
      "__data__\\Geolife Trajectories 1.3\\Data\n",
      "182\n"
     ]
    }
   ],
   "source": [
    "# base folder extracted from zip\n",
    "dataset_path = os.path.join(\"__data__\", \"Geolife Trajectories 1.3\", \"Data\")\n",
    "print(dataset_path)\n",
    "\n",
    "# each folder is a user # each user has some trajectories\n",
    "user_ids = os.listdir(dataset_path)\n",
    "print(len(user_ids)) #<---- total number of users, each user has multiple trajectories"
   ]
  },
  {
   "cell_type": "markdown",
   "metadata": {},
   "source": [
    "# Extract and Filter Trajectory Data\n",
    "\n",
    "extract trajectories and preprocess them"
   ]
  },
  {
   "cell_type": "code",
   "execution_count": 4,
   "metadata": {},
   "outputs": [
    {
     "data": {
      "text/plain": [
       "'__data__\\\\Geolife Trajectories CSV'"
      ]
     },
     "execution_count": 4,
     "metadata": {},
     "output_type": "execute_result"
    }
   ],
   "source": [
    "# convert to csv files and save them at this location\n",
    "save_dir = os.path.join(\"__data__\", \"Geolife Trajectories CSV\")\n",
    "os.makedirs(save_dir, exist_ok=False)\n",
    "save_dir"
   ]
  },
  {
   "cell_type": "markdown",
   "metadata": {},
   "source": [
    "filtering params"
   ]
  },
  {
   "cell_type": "code",
   "execution_count": 5,
   "metadata": {},
   "outputs": [],
   "source": [
    "# filter trajectories - according to required sub-regions\n",
    "dl, dh = pd.Timedelta(seconds=delta_low), pd.Timedelta(seconds=delta_high)"
   ]
  },
  {
   "cell_type": "markdown",
   "metadata": {},
   "source": [
    "filtering function"
   ]
  },
  {
   "cell_type": "code",
   "execution_count": 6,
   "metadata": {},
   "outputs": [],
   "source": [
    "# the filtering function\n",
    "def read_plt(uid, user_trajectories):\n",
    "    header = ','.join(['x', 'y', 'u', 'z' ,'n', 'd', 't'])\n",
    "\n",
    "    for i in tqdm(range(len(user_trajectories))):\n",
    "        save_as = os.path.join(save_dir, f'{uid}_{i}.csv')\n",
    "    \n",
    "        path = user_trajectories[i][-1]\n",
    "        with open(path, 'r') as f: \n",
    "            # skip first 6 lines\n",
    "            for _ in range(6): f.readline()\n",
    "            sx = f.read()\n",
    "            ss = sx.split('\\n')\n",
    "            \n",
    "            first_line = ss[0].split(',')\n",
    "            last_line = ss[-2].split(',')\n",
    "\n",
    "            # out of bejing\n",
    "            x_start, y_start = float(first_line[0]), float(first_line[1])\n",
    "            x_end, y_end = float(last_line[0]), float(last_line[1])\n",
    "            if x_start<xl or x_start>xh or y_start<yl or y_start>yh \\\n",
    "                or x_end<xl or x_end>xh or y_end<yl or y_end>yh: \n",
    "                #print(f'[!] skip {path} -> start and end out of range : {x_start}, {y_start} :: {x_end}, {y_end}')\n",
    "                continue\n",
    "\n",
    "            # trajectory length too small or too big\n",
    "            end_str, start_str = f'{last_line[-2]} {last_line[-1]}', f'{first_line[-2]} {first_line[-1]}'\n",
    "            #print(start_str, end_str,)\n",
    "            end_dt= pd.Timestamp( end_str.replace(',', ' '))\n",
    "            start_dt =  pd.Timestamp(start_str.replace(',', ' '))\n",
    "            delta =  end_dt-start_dt\n",
    "            #print(start_dt, end_dt, ' :: ' ,delta)\n",
    "            # trajectory length\n",
    "            if delta.seconds<delta_low or delta.seconds>delta_high: \n",
    "                #print(f'[!] skip {path} -> out of delta range! : {delta}')\n",
    "                continue\n",
    "\n",
    "\n",
    "            # n samples - there are delta.seconds in trajectory, expected samples? = every 10 seconds\n",
    "            exp_samples = delta.seconds/sample_resolution\n",
    "            if len(ss)< exp_samples:\n",
    "                #print(f'[!] skip {path} -> low samples! : {len(ss)} < {exp_samples}')\n",
    "                continue\n",
    "\n",
    "            with open(save_as, 'w') as w:\n",
    "                w.write(f'{header}\\n')\n",
    "                w.write(sx)\n",
    "        "
   ]
  },
  {
   "cell_type": "markdown",
   "metadata": {},
   "source": [
    "execute"
   ]
  },
  {
   "cell_type": "code",
   "execution_count": 7,
   "metadata": {},
   "outputs": [
    {
     "name": "stdout",
     "output_type": "stream",
     "text": [
      "000 :: [171] # __data__\\Geolife Trajectories 1.3\\Data\\000\\Trajectory\n"
     ]
    },
    {
     "name": "stderr",
     "output_type": "stream",
     "text": [
      "100%|██████████| 171/171 [00:00<00:00, 953.10it/s]\n"
     ]
    },
    {
     "name": "stdout",
     "output_type": "stream",
     "text": [
      "001 :: [71] # __data__\\Geolife Trajectories 1.3\\Data\\001\\Trajectory\n"
     ]
    },
    {
     "name": "stderr",
     "output_type": "stream",
     "text": [
      "100%|██████████| 71/71 [00:00<00:00, 676.19it/s]\n"
     ]
    },
    {
     "name": "stdout",
     "output_type": "stream",
     "text": [
      "002 :: [175] # __data__\\Geolife Trajectories 1.3\\Data\\002\\Trajectory\n"
     ]
    },
    {
     "name": "stderr",
     "output_type": "stream",
     "text": [
      "100%|██████████| 175/175 [00:00<00:00, 829.43it/s]\n"
     ]
    },
    {
     "name": "stdout",
     "output_type": "stream",
     "text": [
      "003 :: [322] # __data__\\Geolife Trajectories 1.3\\Data\\003\\Trajectory\n"
     ]
    },
    {
     "name": "stderr",
     "output_type": "stream",
     "text": [
      "100%|██████████| 322/322 [00:00<00:00, 825.61it/s]\n"
     ]
    },
    {
     "name": "stdout",
     "output_type": "stream",
     "text": [
      "004 :: [395] # __data__\\Geolife Trajectories 1.3\\Data\\004\\Trajectory\n"
     ]
    },
    {
     "name": "stderr",
     "output_type": "stream",
     "text": [
      "100%|██████████| 395/395 [00:00<00:00, 1023.27it/s]\n"
     ]
    },
    {
     "name": "stdout",
     "output_type": "stream",
     "text": [
      "005 :: [86] # __data__\\Geolife Trajectories 1.3\\Data\\005\\Trajectory\n"
     ]
    },
    {
     "name": "stderr",
     "output_type": "stream",
     "text": [
      "100%|██████████| 86/86 [00:00<00:00, 809.05it/s]\n"
     ]
    },
    {
     "name": "stdout",
     "output_type": "stream",
     "text": [
      "006 :: [28] # __data__\\Geolife Trajectories 1.3\\Data\\006\\Trajectory\n"
     ]
    },
    {
     "name": "stderr",
     "output_type": "stream",
     "text": [
      "100%|██████████| 28/28 [00:00<00:00, 889.80it/s]\n"
     ]
    },
    {
     "name": "stdout",
     "output_type": "stream",
     "text": [
      "007 :: [54] # __data__\\Geolife Trajectories 1.3\\Data\\007\\Trajectory\n"
     ]
    },
    {
     "name": "stderr",
     "output_type": "stream",
     "text": [
      "100%|██████████| 54/54 [00:00<00:00, 624.82it/s]\n"
     ]
    },
    {
     "name": "stdout",
     "output_type": "stream",
     "text": [
      "008 :: [34] # __data__\\Geolife Trajectories 1.3\\Data\\008\\Trajectory\n"
     ]
    },
    {
     "name": "stderr",
     "output_type": "stream",
     "text": [
      "100%|██████████| 34/34 [00:00<00:00, 440.09it/s]\n"
     ]
    },
    {
     "name": "stdout",
     "output_type": "stream",
     "text": [
      "009 :: [49] # __data__\\Geolife Trajectories 1.3\\Data\\009\\Trajectory\n"
     ]
    },
    {
     "name": "stderr",
     "output_type": "stream",
     "text": [
      "100%|██████████| 49/49 [00:00<00:00, 527.76it/s]\n"
     ]
    },
    {
     "name": "stdout",
     "output_type": "stream",
     "text": [
      "010 :: [161] # __data__\\Geolife Trajectories 1.3\\Data\\010\\Trajectory\n"
     ]
    },
    {
     "name": "stderr",
     "output_type": "stream",
     "text": [
      "100%|██████████| 161/161 [00:00<00:00, 320.53it/s]\n"
     ]
    },
    {
     "name": "stdout",
     "output_type": "stream",
     "text": [
      "011 :: [201] # __data__\\Geolife Trajectories 1.3\\Data\\011\\Trajectory\n"
     ]
    },
    {
     "name": "stderr",
     "output_type": "stream",
     "text": [
      "100%|██████████| 201/201 [00:00<00:00, 1429.70it/s]\n"
     ]
    },
    {
     "name": "stdout",
     "output_type": "stream",
     "text": [
      "012 :: [77] # __data__\\Geolife Trajectories 1.3\\Data\\012\\Trajectory\n"
     ]
    },
    {
     "name": "stderr",
     "output_type": "stream",
     "text": [
      "100%|██████████| 77/77 [00:00<00:00, 693.98it/s]\n"
     ]
    },
    {
     "name": "stdout",
     "output_type": "stream",
     "text": [
      "013 :: [144] # __data__\\Geolife Trajectories 1.3\\Data\\013\\Trajectory\n"
     ]
    },
    {
     "name": "stderr",
     "output_type": "stream",
     "text": [
      "100%|██████████| 144/144 [00:00<00:00, 647.54it/s]\n"
     ]
    },
    {
     "name": "stdout",
     "output_type": "stream",
     "text": [
      "014 :: [279] # __data__\\Geolife Trajectories 1.3\\Data\\014\\Trajectory\n"
     ]
    },
    {
     "name": "stderr",
     "output_type": "stream",
     "text": [
      "100%|██████████| 279/279 [00:00<00:00, 807.34it/s]\n"
     ]
    },
    {
     "name": "stdout",
     "output_type": "stream",
     "text": [
      "015 :: [67] # __data__\\Geolife Trajectories 1.3\\Data\\015\\Trajectory\n"
     ]
    },
    {
     "name": "stderr",
     "output_type": "stream",
     "text": [
      "100%|██████████| 67/67 [00:00<00:00, 798.42it/s]\n"
     ]
    },
    {
     "name": "stdout",
     "output_type": "stream",
     "text": [
      "016 :: [51] # __data__\\Geolife Trajectories 1.3\\Data\\016\\Trajectory\n"
     ]
    },
    {
     "name": "stderr",
     "output_type": "stream",
     "text": [
      "100%|██████████| 51/51 [00:00<00:00, 550.72it/s]\n"
     ]
    },
    {
     "name": "stdout",
     "output_type": "stream",
     "text": [
      "017 :: [391] # __data__\\Geolife Trajectories 1.3\\Data\\017\\Trajectory\n"
     ]
    },
    {
     "name": "stderr",
     "output_type": "stream",
     "text": [
      "100%|██████████| 391/391 [00:00<00:00, 590.88it/s]\n"
     ]
    },
    {
     "name": "stdout",
     "output_type": "stream",
     "text": [
      "018 :: [50] # __data__\\Geolife Trajectories 1.3\\Data\\018\\Trajectory\n"
     ]
    },
    {
     "name": "stderr",
     "output_type": "stream",
     "text": [
      "100%|██████████| 50/50 [00:00<00:00, 910.12it/s]\n"
     ]
    },
    {
     "name": "stdout",
     "output_type": "stream",
     "text": [
      "019 :: [84] # __data__\\Geolife Trajectories 1.3\\Data\\019\\Trajectory\n"
     ]
    },
    {
     "name": "stderr",
     "output_type": "stream",
     "text": [
      "100%|██████████| 84/84 [00:00<00:00, 1259.91it/s]\n"
     ]
    },
    {
     "name": "stdout",
     "output_type": "stream",
     "text": [
      "020 :: [151] # __data__\\Geolife Trajectories 1.3\\Data\\020\\Trajectory\n"
     ]
    },
    {
     "name": "stderr",
     "output_type": "stream",
     "text": [
      "100%|██████████| 151/151 [00:00<00:00, 822.25it/s]\n"
     ]
    },
    {
     "name": "stdout",
     "output_type": "stream",
     "text": [
      "021 :: [8] # __data__\\Geolife Trajectories 1.3\\Data\\021\\Trajectory\n"
     ]
    },
    {
     "name": "stderr",
     "output_type": "stream",
     "text": [
      "100%|██████████| 8/8 [00:00<00:00, 4232.40it/s]\n"
     ]
    },
    {
     "name": "stdout",
     "output_type": "stream",
     "text": [
      "022 :: [146] # __data__\\Geolife Trajectories 1.3\\Data\\022\\Trajectory\n"
     ]
    },
    {
     "name": "stderr",
     "output_type": "stream",
     "text": [
      "100%|██████████| 146/146 [00:00<00:00, 453.80it/s]\n"
     ]
    },
    {
     "name": "stdout",
     "output_type": "stream",
     "text": [
      "023 :: [34] # __data__\\Geolife Trajectories 1.3\\Data\\023\\Trajectory\n"
     ]
    },
    {
     "name": "stderr",
     "output_type": "stream",
     "text": [
      "100%|██████████| 34/34 [00:00<00:00, 359.43it/s]\n"
     ]
    },
    {
     "name": "stdout",
     "output_type": "stream",
     "text": [
      "024 :: [101] # __data__\\Geolife Trajectories 1.3\\Data\\024\\Trajectory\n"
     ]
    },
    {
     "name": "stderr",
     "output_type": "stream",
     "text": [
      "100%|██████████| 101/101 [00:00<00:00, 551.34it/s]\n"
     ]
    },
    {
     "name": "stdout",
     "output_type": "stream",
     "text": [
      "025 :: [757] # __data__\\Geolife Trajectories 1.3\\Data\\025\\Trajectory\n"
     ]
    },
    {
     "name": "stderr",
     "output_type": "stream",
     "text": [
      "100%|██████████| 757/757 [00:00<00:00, 1187.20it/s]\n"
     ]
    },
    {
     "name": "stdout",
     "output_type": "stream",
     "text": [
      "026 :: [43] # __data__\\Geolife Trajectories 1.3\\Data\\026\\Trajectory\n"
     ]
    },
    {
     "name": "stderr",
     "output_type": "stream",
     "text": [
      "100%|██████████| 43/43 [00:00<00:00, 560.33it/s]\n"
     ]
    },
    {
     "name": "stdout",
     "output_type": "stream",
     "text": [
      "027 :: [5] # __data__\\Geolife Trajectories 1.3\\Data\\027\\Trajectory\n"
     ]
    },
    {
     "name": "stderr",
     "output_type": "stream",
     "text": [
      "100%|██████████| 5/5 [00:00<?, ?it/s]\n"
     ]
    },
    {
     "name": "stdout",
     "output_type": "stream",
     "text": [
      "028 :: [64] # __data__\\Geolife Trajectories 1.3\\Data\\028\\Trajectory\n"
     ]
    },
    {
     "name": "stderr",
     "output_type": "stream",
     "text": [
      "100%|██████████| 64/64 [00:00<00:00, 726.10it/s]\n"
     ]
    },
    {
     "name": "stdout",
     "output_type": "stream",
     "text": [
      "029 :: [45] # __data__\\Geolife Trajectories 1.3\\Data\\029\\Trajectory\n"
     ]
    },
    {
     "name": "stderr",
     "output_type": "stream",
     "text": [
      "100%|██████████| 45/45 [00:00<00:00, 675.06it/s]"
     ]
    },
    {
     "name": "stdout",
     "output_type": "stream",
     "text": [
      "030 :: [296] # __data__\\Geolife Trajectories 1.3\\Data\\030\\Trajectory\n"
     ]
    },
    {
     "name": "stderr",
     "output_type": "stream",
     "text": [
      "\n",
      "100%|██████████| 296/296 [00:00<00:00, 725.63it/s]\n"
     ]
    },
    {
     "name": "stdout",
     "output_type": "stream",
     "text": [
      "031 :: [6] # __data__\\Geolife Trajectories 1.3\\Data\\031\\Trajectory\n"
     ]
    },
    {
     "name": "stderr",
     "output_type": "stream",
     "text": [
      "100%|██████████| 6/6 [00:00<00:00, 350.42it/s]\n"
     ]
    },
    {
     "name": "stdout",
     "output_type": "stream",
     "text": [
      "032 :: [16] # __data__\\Geolife Trajectories 1.3\\Data\\032\\Trajectory\n"
     ]
    },
    {
     "name": "stderr",
     "output_type": "stream",
     "text": [
      "100%|██████████| 16/16 [00:00<00:00, 1014.62it/s]\n"
     ]
    },
    {
     "name": "stdout",
     "output_type": "stream",
     "text": [
      "033 :: [13] # __data__\\Geolife Trajectories 1.3\\Data\\033\\Trajectory\n"
     ]
    },
    {
     "name": "stderr",
     "output_type": "stream",
     "text": [
      "100%|██████████| 13/13 [00:00<00:00, 250.14it/s]\n"
     ]
    },
    {
     "name": "stdout",
     "output_type": "stream",
     "text": [
      "034 :: [198] # __data__\\Geolife Trajectories 1.3\\Data\\034\\Trajectory\n"
     ]
    },
    {
     "name": "stderr",
     "output_type": "stream",
     "text": [
      "100%|██████████| 198/198 [00:00<00:00, 1172.17it/s]\n"
     ]
    },
    {
     "name": "stdout",
     "output_type": "stream",
     "text": [
      "035 :: [74] # __data__\\Geolife Trajectories 1.3\\Data\\035\\Trajectory\n"
     ]
    },
    {
     "name": "stderr",
     "output_type": "stream",
     "text": [
      "100%|██████████| 74/74 [00:00<00:00, 408.56it/s]\n"
     ]
    },
    {
     "name": "stdout",
     "output_type": "stream",
     "text": [
      "036 :: [72] # __data__\\Geolife Trajectories 1.3\\Data\\036\\Trajectory\n"
     ]
    },
    {
     "name": "stderr",
     "output_type": "stream",
     "text": [
      "100%|██████████| 72/72 [00:00<00:00, 427.84it/s]\n"
     ]
    },
    {
     "name": "stdout",
     "output_type": "stream",
     "text": [
      "037 :: [148] # __data__\\Geolife Trajectories 1.3\\Data\\037\\Trajectory\n"
     ]
    },
    {
     "name": "stderr",
     "output_type": "stream",
     "text": [
      "100%|██████████| 148/148 [00:00<00:00, 763.65it/s]\n"
     ]
    },
    {
     "name": "stdout",
     "output_type": "stream",
     "text": [
      "038 :: [110] # __data__\\Geolife Trajectories 1.3\\Data\\038\\Trajectory\n"
     ]
    },
    {
     "name": "stderr",
     "output_type": "stream",
     "text": [
      "100%|██████████| 110/110 [00:00<00:00, 593.48it/s]\n"
     ]
    },
    {
     "name": "stdout",
     "output_type": "stream",
     "text": [
      "039 :: [227] # __data__\\Geolife Trajectories 1.3\\Data\\039\\Trajectory\n"
     ]
    },
    {
     "name": "stderr",
     "output_type": "stream",
     "text": [
      "100%|██████████| 227/227 [00:00<00:00, 1050.98it/s]\n"
     ]
    },
    {
     "name": "stdout",
     "output_type": "stream",
     "text": [
      "040 :: [27] # __data__\\Geolife Trajectories 1.3\\Data\\040\\Trajectory\n"
     ]
    },
    {
     "name": "stderr",
     "output_type": "stream",
     "text": [
      "100%|██████████| 27/27 [00:00<00:00, 500.14it/s]\n"
     ]
    },
    {
     "name": "stdout",
     "output_type": "stream",
     "text": [
      "041 :: [557] # __data__\\Geolife Trajectories 1.3\\Data\\041\\Trajectory\n"
     ]
    },
    {
     "name": "stderr",
     "output_type": "stream",
     "text": [
      "100%|██████████| 557/557 [00:00<00:00, 706.17it/s]\n"
     ]
    },
    {
     "name": "stdout",
     "output_type": "stream",
     "text": [
      "042 :: [150] # __data__\\Geolife Trajectories 1.3\\Data\\042\\Trajectory\n"
     ]
    },
    {
     "name": "stderr",
     "output_type": "stream",
     "text": [
      "100%|██████████| 150/150 [00:00<00:00, 599.55it/s]\n"
     ]
    },
    {
     "name": "stdout",
     "output_type": "stream",
     "text": [
      "043 :: [43] # __data__\\Geolife Trajectories 1.3\\Data\\043\\Trajectory\n"
     ]
    },
    {
     "name": "stderr",
     "output_type": "stream",
     "text": [
      "100%|██████████| 43/43 [00:00<00:00, 657.30it/s]\n"
     ]
    },
    {
     "name": "stdout",
     "output_type": "stream",
     "text": [
      "044 :: [72] # __data__\\Geolife Trajectories 1.3\\Data\\044\\Trajectory\n"
     ]
    },
    {
     "name": "stderr",
     "output_type": "stream",
     "text": [
      "100%|██████████| 72/72 [00:00<00:00, 1095.56it/s]\n"
     ]
    },
    {
     "name": "stdout",
     "output_type": "stream",
     "text": [
      "045 :: [9] # __data__\\Geolife Trajectories 1.3\\Data\\045\\Trajectory\n"
     ]
    },
    {
     "name": "stderr",
     "output_type": "stream",
     "text": [
      "100%|██████████| 9/9 [00:00<00:00, 2042.46it/s]\n"
     ]
    },
    {
     "name": "stdout",
     "output_type": "stream",
     "text": [
      "046 :: [31] # __data__\\Geolife Trajectories 1.3\\Data\\046\\Trajectory\n"
     ]
    },
    {
     "name": "stderr",
     "output_type": "stream",
     "text": [
      "100%|██████████| 31/31 [00:00<00:00, 933.84it/s]\n"
     ]
    },
    {
     "name": "stdout",
     "output_type": "stream",
     "text": [
      "047 :: [12] # __data__\\Geolife Trajectories 1.3\\Data\\047\\Trajectory\n"
     ]
    },
    {
     "name": "stderr",
     "output_type": "stream",
     "text": [
      "100%|██████████| 12/12 [00:00<00:00, 650.63it/s]\n"
     ]
    },
    {
     "name": "stdout",
     "output_type": "stream",
     "text": [
      "048 :: [3] # __data__\\Geolife Trajectories 1.3\\Data\\048\\Trajectory\n"
     ]
    },
    {
     "name": "stderr",
     "output_type": "stream",
     "text": [
      "100%|██████████| 3/3 [00:00<00:00, 264.67it/s]\n"
     ]
    },
    {
     "name": "stdout",
     "output_type": "stream",
     "text": [
      "049 :: [1] # __data__\\Geolife Trajectories 1.3\\Data\\049\\Trajectory\n"
     ]
    },
    {
     "name": "stderr",
     "output_type": "stream",
     "text": [
      "100%|██████████| 1/1 [00:00<00:00, 332.54it/s]\n"
     ]
    },
    {
     "name": "stdout",
     "output_type": "stream",
     "text": [
      "050 :: [51] # __data__\\Geolife Trajectories 1.3\\Data\\050\\Trajectory\n"
     ]
    },
    {
     "name": "stderr",
     "output_type": "stream",
     "text": [
      "100%|██████████| 51/51 [00:00<00:00, 228.38it/s]\n"
     ]
    },
    {
     "name": "stdout",
     "output_type": "stream",
     "text": [
      "051 :: [51] # __data__\\Geolife Trajectories 1.3\\Data\\051\\Trajectory\n"
     ]
    },
    {
     "name": "stderr",
     "output_type": "stream",
     "text": [
      "100%|██████████| 51/51 [00:00<00:00, 1554.61it/s]\n"
     ]
    },
    {
     "name": "stdout",
     "output_type": "stream",
     "text": [
      "052 :: [104] # __data__\\Geolife Trajectories 1.3\\Data\\052\\Trajectory\n"
     ]
    },
    {
     "name": "stderr",
     "output_type": "stream",
     "text": [
      "100%|██████████| 104/104 [00:00<00:00, 436.25it/s]\n"
     ]
    },
    {
     "name": "stdout",
     "output_type": "stream",
     "text": [
      "053 :: [9] # __data__\\Geolife Trajectories 1.3\\Data\\053\\Trajectory\n"
     ]
    },
    {
     "name": "stderr",
     "output_type": "stream",
     "text": [
      "100%|██████████| 9/9 [00:00<00:00, 576.68it/s]\n"
     ]
    },
    {
     "name": "stdout",
     "output_type": "stream",
     "text": [
      "054 :: [3] # __data__\\Geolife Trajectories 1.3\\Data\\054\\Trajectory\n"
     ]
    },
    {
     "name": "stderr",
     "output_type": "stream",
     "text": [
      "100%|██████████| 3/3 [00:00<00:00, 273.82it/s]\n"
     ]
    },
    {
     "name": "stdout",
     "output_type": "stream",
     "text": [
      "055 :: [24] # __data__\\Geolife Trajectories 1.3\\Data\\055\\Trajectory\n"
     ]
    },
    {
     "name": "stderr",
     "output_type": "stream",
     "text": [
      "100%|██████████| 24/24 [00:00<00:00, 1504.68it/s]\n"
     ]
    },
    {
     "name": "stdout",
     "output_type": "stream",
     "text": [
      "056 :: [31] # __data__\\Geolife Trajectories 1.3\\Data\\056\\Trajectory\n"
     ]
    },
    {
     "name": "stderr",
     "output_type": "stream",
     "text": [
      "100%|██████████| 31/31 [00:00<00:00, 1906.92it/s]\n"
     ]
    },
    {
     "name": "stdout",
     "output_type": "stream",
     "text": [
      "057 :: [22] # __data__\\Geolife Trajectories 1.3\\Data\\057\\Trajectory\n"
     ]
    },
    {
     "name": "stderr",
     "output_type": "stream",
     "text": [
      "100%|██████████| 22/22 [00:00<00:00, 8173.86it/s]\n"
     ]
    },
    {
     "name": "stdout",
     "output_type": "stream",
     "text": [
      "058 :: [22] # __data__\\Geolife Trajectories 1.3\\Data\\058\\Trajectory\n"
     ]
    },
    {
     "name": "stderr",
     "output_type": "stream",
     "text": [
      "100%|██████████| 22/22 [00:00<00:00, 717.76it/s]\n"
     ]
    },
    {
     "name": "stdout",
     "output_type": "stream",
     "text": [
      "059 :: [8] # __data__\\Geolife Trajectories 1.3\\Data\\059\\Trajectory\n"
     ]
    },
    {
     "name": "stderr",
     "output_type": "stream",
     "text": [
      "100%|██████████| 8/8 [00:00<00:00, 409.02it/s]\n"
     ]
    },
    {
     "name": "stdout",
     "output_type": "stream",
     "text": [
      "060 :: [2] # __data__\\Geolife Trajectories 1.3\\Data\\060\\Trajectory\n"
     ]
    },
    {
     "name": "stderr",
     "output_type": "stream",
     "text": [
      "100%|██████████| 2/2 [00:00<00:00, 2013.59it/s]\n"
     ]
    },
    {
     "name": "stdout",
     "output_type": "stream",
     "text": [
      "061 :: [20] # __data__\\Geolife Trajectories 1.3\\Data\\061\\Trajectory\n"
     ]
    },
    {
     "name": "stderr",
     "output_type": "stream",
     "text": [
      "100%|██████████| 20/20 [00:00<00:00, 1666.16it/s]\n"
     ]
    },
    {
     "name": "stdout",
     "output_type": "stream",
     "text": [
      "062 :: [706] # __data__\\Geolife Trajectories 1.3\\Data\\062\\Trajectory\n"
     ]
    },
    {
     "name": "stderr",
     "output_type": "stream",
     "text": [
      "100%|██████████| 706/706 [00:00<00:00, 1522.22it/s]\n"
     ]
    },
    {
     "name": "stdout",
     "output_type": "stream",
     "text": [
      "063 :: [15] # __data__\\Geolife Trajectories 1.3\\Data\\063\\Trajectory\n"
     ]
    },
    {
     "name": "stderr",
     "output_type": "stream",
     "text": [
      "100%|██████████| 15/15 [00:00<00:00, 938.17it/s]\n"
     ]
    },
    {
     "name": "stdout",
     "output_type": "stream",
     "text": [
      "064 :: [23] # __data__\\Geolife Trajectories 1.3\\Data\\064\\Trajectory\n"
     ]
    },
    {
     "name": "stderr",
     "output_type": "stream",
     "text": [
      "100%|██████████| 23/23 [00:00<00:00, 782.57it/s]\n"
     ]
    },
    {
     "name": "stdout",
     "output_type": "stream",
     "text": [
      "065 :: [137] # __data__\\Geolife Trajectories 1.3\\Data\\065\\Trajectory\n"
     ]
    },
    {
     "name": "stderr",
     "output_type": "stream",
     "text": [
      "100%|██████████| 137/137 [00:00<00:00, 444.00it/s]\n"
     ]
    },
    {
     "name": "stdout",
     "output_type": "stream",
     "text": [
      "066 :: [19] # __data__\\Geolife Trajectories 1.3\\Data\\066\\Trajectory\n"
     ]
    },
    {
     "name": "stderr",
     "output_type": "stream",
     "text": [
      "100%|██████████| 19/19 [00:00<00:00, 329.12it/s]\n"
     ]
    },
    {
     "name": "stdout",
     "output_type": "stream",
     "text": [
      "067 :: [120] # __data__\\Geolife Trajectories 1.3\\Data\\067\\Trajectory\n"
     ]
    },
    {
     "name": "stderr",
     "output_type": "stream",
     "text": [
      "100%|██████████| 120/120 [00:00<00:00, 428.81it/s]\n"
     ]
    },
    {
     "name": "stdout",
     "output_type": "stream",
     "text": [
      "068 :: [408] # __data__\\Geolife Trajectories 1.3\\Data\\068\\Trajectory\n"
     ]
    },
    {
     "name": "stderr",
     "output_type": "stream",
     "text": [
      "100%|██████████| 408/408 [00:00<00:00, 493.43it/s]\n"
     ]
    },
    {
     "name": "stdout",
     "output_type": "stream",
     "text": [
      "069 :: [8] # __data__\\Geolife Trajectories 1.3\\Data\\069\\Trajectory\n"
     ]
    },
    {
     "name": "stderr",
     "output_type": "stream",
     "text": [
      "100%|██████████| 8/8 [00:00<00:00, 256.10it/s]\n"
     ]
    },
    {
     "name": "stdout",
     "output_type": "stream",
     "text": [
      "070 :: [11] # __data__\\Geolife Trajectories 1.3\\Data\\070\\Trajectory\n"
     ]
    },
    {
     "name": "stderr",
     "output_type": "stream",
     "text": [
      "100%|██████████| 11/11 [00:00<00:00, 615.21it/s]\n"
     ]
    },
    {
     "name": "stdout",
     "output_type": "stream",
     "text": [
      "071 :: [73] # __data__\\Geolife Trajectories 1.3\\Data\\071\\Trajectory\n"
     ]
    },
    {
     "name": "stderr",
     "output_type": "stream",
     "text": [
      "100%|██████████| 73/73 [00:00<00:00, 744.00it/s]\n"
     ]
    },
    {
     "name": "stdout",
     "output_type": "stream",
     "text": [
      "072 :: [2] # __data__\\Geolife Trajectories 1.3\\Data\\072\\Trajectory\n"
     ]
    },
    {
     "name": "stderr",
     "output_type": "stream",
     "text": [
      "100%|██████████| 2/2 [00:00<?, ?it/s]\n"
     ]
    },
    {
     "name": "stdout",
     "output_type": "stream",
     "text": [
      "073 :: [112] # __data__\\Geolife Trajectories 1.3\\Data\\073\\Trajectory\n"
     ]
    },
    {
     "name": "stderr",
     "output_type": "stream",
     "text": [
      "100%|██████████| 112/112 [00:00<00:00, 1647.18it/s]\n"
     ]
    },
    {
     "name": "stdout",
     "output_type": "stream",
     "text": [
      "074 :: [91] # __data__\\Geolife Trajectories 1.3\\Data\\074\\Trajectory\n"
     ]
    },
    {
     "name": "stderr",
     "output_type": "stream",
     "text": [
      "100%|██████████| 91/91 [00:00<00:00, 697.88it/s]\n"
     ]
    },
    {
     "name": "stdout",
     "output_type": "stream",
     "text": [
      "075 :: [13] # __data__\\Geolife Trajectories 1.3\\Data\\075\\Trajectory\n"
     ]
    },
    {
     "name": "stderr",
     "output_type": "stream",
     "text": [
      "100%|██████████| 13/13 [00:00<00:00, 832.04it/s]\n"
     ]
    },
    {
     "name": "stdout",
     "output_type": "stream",
     "text": [
      "076 :: [11] # __data__\\Geolife Trajectories 1.3\\Data\\076\\Trajectory\n"
     ]
    },
    {
     "name": "stderr",
     "output_type": "stream",
     "text": [
      "100%|██████████| 11/11 [00:00<00:00, 1609.70it/s]\n"
     ]
    },
    {
     "name": "stdout",
     "output_type": "stream",
     "text": [
      "077 :: [3] # __data__\\Geolife Trajectories 1.3\\Data\\077\\Trajectory\n"
     ]
    },
    {
     "name": "stderr",
     "output_type": "stream",
     "text": [
      "100%|██████████| 3/3 [00:00<?, ?it/s]\n"
     ]
    },
    {
     "name": "stdout",
     "output_type": "stream",
     "text": [
      "078 :: [100] # __data__\\Geolife Trajectories 1.3\\Data\\078\\Trajectory\n"
     ]
    },
    {
     "name": "stderr",
     "output_type": "stream",
     "text": [
      "100%|██████████| 100/100 [00:00<00:00, 1034.56it/s]\n"
     ]
    },
    {
     "name": "stdout",
     "output_type": "stream",
     "text": [
      "079 :: [23] # __data__\\Geolife Trajectories 1.3\\Data\\079\\Trajectory\n"
     ]
    },
    {
     "name": "stderr",
     "output_type": "stream",
     "text": [
      "100%|██████████| 23/23 [00:00<00:00, 1074.25it/s]\n"
     ]
    },
    {
     "name": "stdout",
     "output_type": "stream",
     "text": [
      "080 :: [9] # __data__\\Geolife Trajectories 1.3\\Data\\080\\Trajectory\n"
     ]
    },
    {
     "name": "stderr",
     "output_type": "stream",
     "text": [
      "100%|██████████| 9/9 [00:00<?, ?it/s]\n"
     ]
    },
    {
     "name": "stdout",
     "output_type": "stream",
     "text": [
      "081 :: [32] # __data__\\Geolife Trajectories 1.3\\Data\\081\\Trajectory\n"
     ]
    },
    {
     "name": "stderr",
     "output_type": "stream",
     "text": [
      "100%|██████████| 32/32 [00:00<00:00, 981.24it/s]\n"
     ]
    },
    {
     "name": "stdout",
     "output_type": "stream",
     "text": [
      "082 :: [96] # __data__\\Geolife Trajectories 1.3\\Data\\082\\Trajectory\n"
     ]
    },
    {
     "name": "stderr",
     "output_type": "stream",
     "text": [
      "100%|██████████| 96/96 [00:00<00:00, 854.52it/s]\n"
     ]
    },
    {
     "name": "stdout",
     "output_type": "stream",
     "text": [
      "083 :: [36] # __data__\\Geolife Trajectories 1.3\\Data\\083\\Trajectory\n"
     ]
    },
    {
     "name": "stderr",
     "output_type": "stream",
     "text": [
      "100%|██████████| 36/36 [00:00<00:00, 969.38it/s]\n"
     ]
    },
    {
     "name": "stdout",
     "output_type": "stream",
     "text": [
      "084 :: [215] # __data__\\Geolife Trajectories 1.3\\Data\\084\\Trajectory\n"
     ]
    },
    {
     "name": "stderr",
     "output_type": "stream",
     "text": [
      "100%|██████████| 215/215 [00:00<00:00, 637.83it/s]\n"
     ]
    },
    {
     "name": "stdout",
     "output_type": "stream",
     "text": [
      "085 :: [427] # __data__\\Geolife Trajectories 1.3\\Data\\085\\Trajectory\n"
     ]
    },
    {
     "name": "stderr",
     "output_type": "stream",
     "text": [
      "100%|██████████| 427/427 [00:00<00:00, 823.47it/s]\n"
     ]
    },
    {
     "name": "stdout",
     "output_type": "stream",
     "text": [
      "086 :: [6] # __data__\\Geolife Trajectories 1.3\\Data\\086\\Trajectory\n"
     ]
    },
    {
     "name": "stderr",
     "output_type": "stream",
     "text": [
      "100%|██████████| 6/6 [00:00<00:00, 384.26it/s]\n"
     ]
    },
    {
     "name": "stdout",
     "output_type": "stream",
     "text": [
      "087 :: [8] # __data__\\Geolife Trajectories 1.3\\Data\\087\\Trajectory\n"
     ]
    },
    {
     "name": "stderr",
     "output_type": "stream",
     "text": [
      "100%|██████████| 8/8 [00:00<?, ?it/s]\n"
     ]
    },
    {
     "name": "stdout",
     "output_type": "stream",
     "text": [
      "088 :: [59] # __data__\\Geolife Trajectories 1.3\\Data\\088\\Trajectory\n"
     ]
    },
    {
     "name": "stderr",
     "output_type": "stream",
     "text": [
      "100%|██████████| 59/59 [00:00<00:00, 1616.40it/s]\n"
     ]
    },
    {
     "name": "stdout",
     "output_type": "stream",
     "text": [
      "089 :: [64] # __data__\\Geolife Trajectories 1.3\\Data\\089\\Trajectory\n"
     ]
    },
    {
     "name": "stderr",
     "output_type": "stream",
     "text": [
      "100%|██████████| 64/64 [00:00<00:00, 1929.64it/s]\n"
     ]
    },
    {
     "name": "stdout",
     "output_type": "stream",
     "text": [
      "090 :: [8] # __data__\\Geolife Trajectories 1.3\\Data\\090\\Trajectory\n"
     ]
    },
    {
     "name": "stderr",
     "output_type": "stream",
     "text": [
      "100%|██████████| 8/8 [00:00<?, ?it/s]\n"
     ]
    },
    {
     "name": "stdout",
     "output_type": "stream",
     "text": [
      "091 :: [98] # __data__\\Geolife Trajectories 1.3\\Data\\091\\Trajectory\n"
     ]
    },
    {
     "name": "stderr",
     "output_type": "stream",
     "text": [
      "100%|██████████| 98/98 [00:00<00:00, 2779.07it/s]\n"
     ]
    },
    {
     "name": "stdout",
     "output_type": "stream",
     "text": [
      "092 :: [157] # __data__\\Geolife Trajectories 1.3\\Data\\092\\Trajectory\n"
     ]
    },
    {
     "name": "stderr",
     "output_type": "stream",
     "text": [
      "100%|██████████| 157/157 [00:00<00:00, 1942.16it/s]\n"
     ]
    },
    {
     "name": "stdout",
     "output_type": "stream",
     "text": [
      "093 :: [23] # __data__\\Geolife Trajectories 1.3\\Data\\093\\Trajectory\n"
     ]
    },
    {
     "name": "stderr",
     "output_type": "stream",
     "text": [
      "100%|██████████| 23/23 [00:00<00:00, 1470.43it/s]\n"
     ]
    },
    {
     "name": "stdout",
     "output_type": "stream",
     "text": [
      "094 :: [22] # __data__\\Geolife Trajectories 1.3\\Data\\094\\Trajectory\n"
     ]
    },
    {
     "name": "stderr",
     "output_type": "stream",
     "text": [
      "100%|██████████| 22/22 [00:00<00:00, 1207.85it/s]\n"
     ]
    },
    {
     "name": "stdout",
     "output_type": "stream",
     "text": [
      "095 :: [36] # __data__\\Geolife Trajectories 1.3\\Data\\095\\Trajectory\n"
     ]
    },
    {
     "name": "stderr",
     "output_type": "stream",
     "text": [
      "100%|██████████| 36/36 [00:00<00:00, 716.22it/s]\n"
     ]
    },
    {
     "name": "stdout",
     "output_type": "stream",
     "text": [
      "096 :: [112] # __data__\\Geolife Trajectories 1.3\\Data\\096\\Trajectory\n"
     ]
    },
    {
     "name": "stderr",
     "output_type": "stream",
     "text": [
      "100%|██████████| 112/112 [00:00<00:00, 587.36it/s]\n"
     ]
    },
    {
     "name": "stdout",
     "output_type": "stream",
     "text": [
      "097 :: [38] # __data__\\Geolife Trajectories 1.3\\Data\\097\\Trajectory\n"
     ]
    },
    {
     "name": "stderr",
     "output_type": "stream",
     "text": [
      "100%|██████████| 38/38 [00:00<00:00, 2432.37it/s]\n"
     ]
    },
    {
     "name": "stdout",
     "output_type": "stream",
     "text": [
      "098 :: [6] # __data__\\Geolife Trajectories 1.3\\Data\\098\\Trajectory\n"
     ]
    },
    {
     "name": "stderr",
     "output_type": "stream",
     "text": [
      "100%|██████████| 6/6 [00:00<?, ?it/s]\n"
     ]
    },
    {
     "name": "stdout",
     "output_type": "stream",
     "text": [
      "099 :: [16] # __data__\\Geolife Trajectories 1.3\\Data\\099\\Trajectory\n"
     ]
    },
    {
     "name": "stderr",
     "output_type": "stream",
     "text": [
      "100%|██████████| 16/16 [00:00<00:00, 14906.46it/s]\n"
     ]
    },
    {
     "name": "stdout",
     "output_type": "stream",
     "text": [
      "100 :: [7] # __data__\\Geolife Trajectories 1.3\\Data\\100\\Trajectory\n"
     ]
    },
    {
     "name": "stderr",
     "output_type": "stream",
     "text": [
      "100%|██████████| 7/7 [00:00<00:00, 441.34it/s]\n"
     ]
    },
    {
     "name": "stdout",
     "output_type": "stream",
     "text": [
      "101 :: [68] # __data__\\Geolife Trajectories 1.3\\Data\\101\\Trajectory\n"
     ]
    },
    {
     "name": "stderr",
     "output_type": "stream",
     "text": [
      "100%|██████████| 68/68 [00:00<00:00, 3861.74it/s]\n"
     ]
    },
    {
     "name": "stdout",
     "output_type": "stream",
     "text": [
      "102 :: [38] # __data__\\Geolife Trajectories 1.3\\Data\\102\\Trajectory\n"
     ]
    },
    {
     "name": "stderr",
     "output_type": "stream",
     "text": [
      "100%|██████████| 38/38 [00:00<00:00, 2431.70it/s]\n"
     ]
    },
    {
     "name": "stdout",
     "output_type": "stream",
     "text": [
      "103 :: [48] # __data__\\Geolife Trajectories 1.3\\Data\\103\\Trajectory\n"
     ]
    },
    {
     "name": "stderr",
     "output_type": "stream",
     "text": [
      "100%|██████████| 48/48 [00:00<00:00, 1399.32it/s]\n"
     ]
    },
    {
     "name": "stdout",
     "output_type": "stream",
     "text": [
      "104 :: [115] # __data__\\Geolife Trajectories 1.3\\Data\\104\\Trajectory\n"
     ]
    },
    {
     "name": "stderr",
     "output_type": "stream",
     "text": [
      "100%|██████████| 115/115 [00:00<00:00, 1761.42it/s]\n"
     ]
    },
    {
     "name": "stdout",
     "output_type": "stream",
     "text": [
      "105 :: [10] # __data__\\Geolife Trajectories 1.3\\Data\\105\\Trajectory\n"
     ]
    },
    {
     "name": "stderr",
     "output_type": "stream",
     "text": [
      "100%|██████████| 10/10 [00:00<00:00, 639.67it/s]\n"
     ]
    },
    {
     "name": "stdout",
     "output_type": "stream",
     "text": [
      "106 :: [3] # __data__\\Geolife Trajectories 1.3\\Data\\106\\Trajectory\n"
     ]
    },
    {
     "name": "stderr",
     "output_type": "stream",
     "text": [
      "100%|██████████| 3/3 [00:00<?, ?it/s]\n"
     ]
    },
    {
     "name": "stdout",
     "output_type": "stream",
     "text": [
      "107 :: [3] # __data__\\Geolife Trajectories 1.3\\Data\\107\\Trajectory\n"
     ]
    },
    {
     "name": "stderr",
     "output_type": "stream",
     "text": [
      "100%|██████████| 3/3 [00:00<?, ?it/s]\n"
     ]
    },
    {
     "name": "stdout",
     "output_type": "stream",
     "text": [
      "108 :: [9] # __data__\\Geolife Trajectories 1.3\\Data\\108\\Trajectory\n"
     ]
    },
    {
     "name": "stderr",
     "output_type": "stream",
     "text": [
      "100%|██████████| 9/9 [00:00<00:00, 490.57it/s]\n"
     ]
    },
    {
     "name": "stdout",
     "output_type": "stream",
     "text": [
      "109 :: [4] # __data__\\Geolife Trajectories 1.3\\Data\\109\\Trajectory\n"
     ]
    },
    {
     "name": "stderr",
     "output_type": "stream",
     "text": [
      "100%|██████████| 4/4 [00:00<?, ?it/s]\n"
     ]
    },
    {
     "name": "stdout",
     "output_type": "stream",
     "text": [
      "110 :: [25] # __data__\\Geolife Trajectories 1.3\\Data\\110\\Trajectory\n"
     ]
    },
    {
     "name": "stderr",
     "output_type": "stream",
     "text": [
      "100%|██████████| 25/25 [00:00<00:00, 1682.38it/s]\n"
     ]
    },
    {
     "name": "stdout",
     "output_type": "stream",
     "text": [
      "111 :: [44] # __data__\\Geolife Trajectories 1.3\\Data\\111\\Trajectory\n"
     ]
    },
    {
     "name": "stderr",
     "output_type": "stream",
     "text": [
      "100%|██████████| 44/44 [00:00<00:00, 2577.58it/s]\n"
     ]
    },
    {
     "name": "stdout",
     "output_type": "stream",
     "text": [
      "112 :: [212] # __data__\\Geolife Trajectories 1.3\\Data\\112\\Trajectory\n"
     ]
    },
    {
     "name": "stderr",
     "output_type": "stream",
     "text": [
      "100%|██████████| 212/212 [00:00<00:00, 1784.83it/s]\n"
     ]
    },
    {
     "name": "stdout",
     "output_type": "stream",
     "text": [
      "113 :: [32] # __data__\\Geolife Trajectories 1.3\\Data\\113\\Trajectory\n"
     ]
    },
    {
     "name": "stderr",
     "output_type": "stream",
     "text": [
      "100%|██████████| 32/32 [00:00<00:00, 1425.98it/s]\n"
     ]
    },
    {
     "name": "stdout",
     "output_type": "stream",
     "text": [
      "114 :: [23] # __data__\\Geolife Trajectories 1.3\\Data\\114\\Trajectory\n"
     ]
    },
    {
     "name": "stderr",
     "output_type": "stream",
     "text": [
      "100%|██████████| 23/23 [00:00<00:00, 1211.24it/s]\n"
     ]
    },
    {
     "name": "stdout",
     "output_type": "stream",
     "text": [
      "115 :: [184] # __data__\\Geolife Trajectories 1.3\\Data\\115\\Trajectory\n"
     ]
    },
    {
     "name": "stderr",
     "output_type": "stream",
     "text": [
      "100%|██████████| 184/184 [00:00<00:00, 1353.06it/s]\n"
     ]
    },
    {
     "name": "stdout",
     "output_type": "stream",
     "text": [
      "116 :: [3] # __data__\\Geolife Trajectories 1.3\\Data\\116\\Trajectory\n"
     ]
    },
    {
     "name": "stderr",
     "output_type": "stream",
     "text": [
      "100%|██████████| 3/3 [00:00<00:00, 750.68it/s]\n"
     ]
    },
    {
     "name": "stdout",
     "output_type": "stream",
     "text": [
      "117 :: [8] # __data__\\Geolife Trajectories 1.3\\Data\\117\\Trajectory\n"
     ]
    },
    {
     "name": "stderr",
     "output_type": "stream",
     "text": [
      "100%|██████████| 8/8 [00:00<00:00, 2666.86it/s]\n"
     ]
    },
    {
     "name": "stdout",
     "output_type": "stream",
     "text": [
      "118 :: [5] # __data__\\Geolife Trajectories 1.3\\Data\\118\\Trajectory\n"
     ]
    },
    {
     "name": "stderr",
     "output_type": "stream",
     "text": [
      "100%|██████████| 5/5 [00:00<00:00, 1665.99it/s]\n"
     ]
    },
    {
     "name": "stdout",
     "output_type": "stream",
     "text": [
      "119 :: [45] # __data__\\Geolife Trajectories 1.3\\Data\\119\\Trajectory\n"
     ]
    },
    {
     "name": "stderr",
     "output_type": "stream",
     "text": [
      "100%|██████████| 45/45 [00:00<00:00, 555.48it/s]\n"
     ]
    },
    {
     "name": "stdout",
     "output_type": "stream",
     "text": [
      "120 :: [2] # __data__\\Geolife Trajectories 1.3\\Data\\120\\Trajectory\n"
     ]
    },
    {
     "name": "stderr",
     "output_type": "stream",
     "text": [
      "100%|██████████| 2/2 [00:00<00:00, 399.90it/s]\n"
     ]
    },
    {
     "name": "stdout",
     "output_type": "stream",
     "text": [
      "121 :: [5] # __data__\\Geolife Trajectories 1.3\\Data\\121\\Trajectory\n"
     ]
    },
    {
     "name": "stderr",
     "output_type": "stream",
     "text": [
      "100%|██████████| 5/5 [00:00<00:00, 833.92it/s]\n"
     ]
    },
    {
     "name": "stdout",
     "output_type": "stream",
     "text": [
      "122 :: [16] # __data__\\Geolife Trajectories 1.3\\Data\\122\\Trajectory\n"
     ]
    },
    {
     "name": "stderr",
     "output_type": "stream",
     "text": [
      "100%|██████████| 16/16 [00:00<00:00, 355.58it/s]\n"
     ]
    },
    {
     "name": "stdout",
     "output_type": "stream",
     "text": [
      "123 :: [5] # __data__\\Geolife Trajectories 1.3\\Data\\123\\Trajectory\n"
     ]
    },
    {
     "name": "stderr",
     "output_type": "stream",
     "text": [
      "100%|██████████| 5/5 [00:00<00:00, 714.63it/s]\n"
     ]
    },
    {
     "name": "stdout",
     "output_type": "stream",
     "text": [
      "124 :: [10] # __data__\\Geolife Trajectories 1.3\\Data\\124\\Trajectory\n"
     ]
    },
    {
     "name": "stderr",
     "output_type": "stream",
     "text": [
      "100%|██████████| 10/10 [00:00<00:00, 178.59it/s]\n"
     ]
    },
    {
     "name": "stdout",
     "output_type": "stream",
     "text": [
      "125 :: [57] # __data__\\Geolife Trajectories 1.3\\Data\\125\\Trajectory\n"
     ]
    },
    {
     "name": "stderr",
     "output_type": "stream",
     "text": [
      "100%|██████████| 57/57 [00:00<00:00, 780.80it/s]\n"
     ]
    },
    {
     "name": "stdout",
     "output_type": "stream",
     "text": [
      "126 :: [263] # __data__\\Geolife Trajectories 1.3\\Data\\126\\Trajectory\n"
     ]
    },
    {
     "name": "stderr",
     "output_type": "stream",
     "text": [
      "100%|██████████| 263/263 [00:00<00:00, 760.10it/s]\n"
     ]
    },
    {
     "name": "stdout",
     "output_type": "stream",
     "text": [
      "127 :: [10] # __data__\\Geolife Trajectories 1.3\\Data\\127\\Trajectory\n"
     ]
    },
    {
     "name": "stderr",
     "output_type": "stream",
     "text": [
      "100%|██████████| 10/10 [00:00<00:00, 714.45it/s]\n"
     ]
    },
    {
     "name": "stdout",
     "output_type": "stream",
     "text": [
      "128 :: [2153] # __data__\\Geolife Trajectories 1.3\\Data\\128\\Trajectory\n"
     ]
    },
    {
     "name": "stderr",
     "output_type": "stream",
     "text": [
      "100%|██████████| 2153/2153 [00:01<00:00, 1822.31it/s]\n"
     ]
    },
    {
     "name": "stdout",
     "output_type": "stream",
     "text": [
      "129 :: [8] # __data__\\Geolife Trajectories 1.3\\Data\\129\\Trajectory\n"
     ]
    },
    {
     "name": "stderr",
     "output_type": "stream",
     "text": [
      "100%|██████████| 8/8 [00:00<00:00, 511.43it/s]\n"
     ]
    },
    {
     "name": "stdout",
     "output_type": "stream",
     "text": [
      "130 :: [20] # __data__\\Geolife Trajectories 1.3\\Data\\130\\Trajectory\n"
     ]
    },
    {
     "name": "stderr",
     "output_type": "stream",
     "text": [
      "100%|██████████| 20/20 [00:00<00:00, 417.83it/s]\n"
     ]
    },
    {
     "name": "stdout",
     "output_type": "stream",
     "text": [
      "131 :: [21] # __data__\\Geolife Trajectories 1.3\\Data\\131\\Trajectory\n"
     ]
    },
    {
     "name": "stderr",
     "output_type": "stream",
     "text": [
      "100%|██████████| 21/21 [00:00<00:00, 615.48it/s]\n"
     ]
    },
    {
     "name": "stdout",
     "output_type": "stream",
     "text": [
      "132 :: [6] # __data__\\Geolife Trajectories 1.3\\Data\\132\\Trajectory\n"
     ]
    },
    {
     "name": "stderr",
     "output_type": "stream",
     "text": [
      "100%|██████████| 6/6 [00:00<00:00, 384.01it/s]\n"
     ]
    },
    {
     "name": "stdout",
     "output_type": "stream",
     "text": [
      "133 :: [5] # __data__\\Geolife Trajectories 1.3\\Data\\133\\Trajectory\n"
     ]
    },
    {
     "name": "stderr",
     "output_type": "stream",
     "text": [
      "100%|██████████| 5/5 [00:00<?, ?it/s]\n"
     ]
    },
    {
     "name": "stdout",
     "output_type": "stream",
     "text": [
      "134 :: [75] # __data__\\Geolife Trajectories 1.3\\Data\\134\\Trajectory\n"
     ]
    },
    {
     "name": "stderr",
     "output_type": "stream",
     "text": [
      "100%|██████████| 75/75 [00:00<00:00, 4818.82it/s]\n"
     ]
    },
    {
     "name": "stdout",
     "output_type": "stream",
     "text": [
      "135 :: [13] # __data__\\Geolife Trajectories 1.3\\Data\\135\\Trajectory\n"
     ]
    },
    {
     "name": "stderr",
     "output_type": "stream",
     "text": [
      "100%|██████████| 13/13 [00:00<00:00, 253.46it/s]\n"
     ]
    },
    {
     "name": "stdout",
     "output_type": "stream",
     "text": [
      "136 :: [17] # __data__\\Geolife Trajectories 1.3\\Data\\136\\Trajectory\n"
     ]
    },
    {
     "name": "stderr",
     "output_type": "stream",
     "text": [
      "100%|██████████| 17/17 [00:00<00:00, 1087.49it/s]\n"
     ]
    },
    {
     "name": "stdout",
     "output_type": "stream",
     "text": [
      "137 :: [1] # __data__\\Geolife Trajectories 1.3\\Data\\137\\Trajectory\n"
     ]
    },
    {
     "name": "stderr",
     "output_type": "stream",
     "text": [
      "100%|██████████| 1/1 [00:00<00:00, 73.31it/s]\n"
     ]
    },
    {
     "name": "stdout",
     "output_type": "stream",
     "text": [
      "138 :: [18] # __data__\\Geolife Trajectories 1.3\\Data\\138\\Trajectory\n"
     ]
    },
    {
     "name": "stderr",
     "output_type": "stream",
     "text": [
      "100%|██████████| 18/18 [00:00<?, ?it/s]\n"
     ]
    },
    {
     "name": "stdout",
     "output_type": "stream",
     "text": [
      "139 :: [19] # __data__\\Geolife Trajectories 1.3\\Data\\139\\Trajectory\n"
     ]
    },
    {
     "name": "stderr",
     "output_type": "stream",
     "text": [
      "100%|██████████| 19/19 [00:00<00:00, 1107.08it/s]\n"
     ]
    },
    {
     "name": "stdout",
     "output_type": "stream",
     "text": [
      "140 :: [380] # __data__\\Geolife Trajectories 1.3\\Data\\140\\Trajectory\n"
     ]
    },
    {
     "name": "stderr",
     "output_type": "stream",
     "text": [
      "100%|██████████| 380/380 [00:00<00:00, 1357.40it/s]\n"
     ]
    },
    {
     "name": "stdout",
     "output_type": "stream",
     "text": [
      "141 :: [34] # __data__\\Geolife Trajectories 1.3\\Data\\141\\Trajectory\n"
     ]
    },
    {
     "name": "stderr",
     "output_type": "stream",
     "text": [
      "100%|██████████| 34/34 [00:00<00:00, 180.27it/s]\n"
     ]
    },
    {
     "name": "stdout",
     "output_type": "stream",
     "text": [
      "142 :: [156] # __data__\\Geolife Trajectories 1.3\\Data\\142\\Trajectory\n"
     ]
    },
    {
     "name": "stderr",
     "output_type": "stream",
     "text": [
      "100%|██████████| 156/156 [00:00<00:00, 1095.85it/s]\n"
     ]
    },
    {
     "name": "stdout",
     "output_type": "stream",
     "text": [
      "143 :: [1] # __data__\\Geolife Trajectories 1.3\\Data\\143\\Trajectory\n"
     ]
    },
    {
     "name": "stderr",
     "output_type": "stream",
     "text": [
      "100%|██████████| 1/1 [00:00<?, ?it/s]\n"
     ]
    },
    {
     "name": "stdout",
     "output_type": "stream",
     "text": [
      "144 :: [610] # __data__\\Geolife Trajectories 1.3\\Data\\144\\Trajectory\n"
     ]
    },
    {
     "name": "stderr",
     "output_type": "stream",
     "text": [
      "100%|██████████| 610/610 [00:00<00:00, 1410.31it/s]\n"
     ]
    },
    {
     "name": "stdout",
     "output_type": "stream",
     "text": [
      "145 :: [6] # __data__\\Geolife Trajectories 1.3\\Data\\145\\Trajectory\n"
     ]
    },
    {
     "name": "stderr",
     "output_type": "stream",
     "text": [
      "100%|██████████| 6/6 [00:00<?, ?it/s]\n"
     ]
    },
    {
     "name": "stdout",
     "output_type": "stream",
     "text": [
      "146 :: [10] # __data__\\Geolife Trajectories 1.3\\Data\\146\\Trajectory\n"
     ]
    },
    {
     "name": "stderr",
     "output_type": "stream",
     "text": [
      "100%|██████████| 10/10 [00:00<00:00, 384.59it/s]\n"
     ]
    },
    {
     "name": "stdout",
     "output_type": "stream",
     "text": [
      "147 :: [84] # __data__\\Geolife Trajectories 1.3\\Data\\147\\Trajectory\n"
     ]
    },
    {
     "name": "stderr",
     "output_type": "stream",
     "text": [
      "100%|██████████| 84/84 [00:00<00:00, 1676.11it/s]\n"
     ]
    },
    {
     "name": "stdout",
     "output_type": "stream",
     "text": [
      "148 :: [3] # __data__\\Geolife Trajectories 1.3\\Data\\148\\Trajectory\n"
     ]
    },
    {
     "name": "stderr",
     "output_type": "stream",
     "text": [
      "100%|██████████| 3/3 [00:00<00:00, 192.11it/s]\n"
     ]
    },
    {
     "name": "stdout",
     "output_type": "stream",
     "text": [
      "149 :: [1] # __data__\\Geolife Trajectories 1.3\\Data\\149\\Trajectory\n"
     ]
    },
    {
     "name": "stderr",
     "output_type": "stream",
     "text": [
      "100%|██████████| 1/1 [00:00<?, ?it/s]\n"
     ]
    },
    {
     "name": "stdout",
     "output_type": "stream",
     "text": [
      "150 :: [22] # __data__\\Geolife Trajectories 1.3\\Data\\150\\Trajectory\n"
     ]
    },
    {
     "name": "stderr",
     "output_type": "stream",
     "text": [
      "100%|██████████| 22/22 [00:00<00:00, 1303.26it/s]\n"
     ]
    },
    {
     "name": "stdout",
     "output_type": "stream",
     "text": [
      "151 :: [1] # __data__\\Geolife Trajectories 1.3\\Data\\151\\Trajectory\n"
     ]
    },
    {
     "name": "stderr",
     "output_type": "stream",
     "text": [
      "100%|██████████| 1/1 [00:00<?, ?it/s]\n"
     ]
    },
    {
     "name": "stdout",
     "output_type": "stream",
     "text": [
      "152 :: [4] # __data__\\Geolife Trajectories 1.3\\Data\\152\\Trajectory\n"
     ]
    },
    {
     "name": "stderr",
     "output_type": "stream",
     "text": [
      "100%|██████████| 4/4 [00:00<?, ?it/s]\n"
     ]
    },
    {
     "name": "stdout",
     "output_type": "stream",
     "text": [
      "153 :: [2024] # __data__\\Geolife Trajectories 1.3\\Data\\153\\Trajectory\n"
     ]
    },
    {
     "name": "stderr",
     "output_type": "stream",
     "text": [
      "100%|██████████| 2024/2024 [00:01<00:00, 1092.55it/s]\n"
     ]
    },
    {
     "name": "stdout",
     "output_type": "stream",
     "text": [
      "154 :: [31] # __data__\\Geolife Trajectories 1.3\\Data\\154\\Trajectory\n"
     ]
    },
    {
     "name": "stderr",
     "output_type": "stream",
     "text": [
      "100%|██████████| 31/31 [00:00<00:00, 1914.87it/s]\n"
     ]
    },
    {
     "name": "stdout",
     "output_type": "stream",
     "text": [
      "155 :: [42] # __data__\\Geolife Trajectories 1.3\\Data\\155\\Trajectory\n"
     ]
    },
    {
     "name": "stderr",
     "output_type": "stream",
     "text": [
      "100%|██████████| 42/42 [00:00<00:00, 1281.92it/s]\n"
     ]
    },
    {
     "name": "stdout",
     "output_type": "stream",
     "text": [
      "156 :: [2] # __data__\\Geolife Trajectories 1.3\\Data\\156\\Trajectory\n"
     ]
    },
    {
     "name": "stderr",
     "output_type": "stream",
     "text": [
      "100%|██████████| 2/2 [00:00<00:00, 693.56it/s]\n"
     ]
    },
    {
     "name": "stdout",
     "output_type": "stream",
     "text": [
      "157 :: [13] # __data__\\Geolife Trajectories 1.3\\Data\\157\\Trajectory\n"
     ]
    },
    {
     "name": "stderr",
     "output_type": "stream",
     "text": [
      "100%|██████████| 13/13 [00:00<00:00, 806.90it/s]\n"
     ]
    },
    {
     "name": "stdout",
     "output_type": "stream",
     "text": [
      "158 :: [14] # __data__\\Geolife Trajectories 1.3\\Data\\158\\Trajectory\n"
     ]
    },
    {
     "name": "stderr",
     "output_type": "stream",
     "text": [
      "100%|██████████| 14/14 [00:00<00:00, 946.17it/s]\n"
     ]
    },
    {
     "name": "stdout",
     "output_type": "stream",
     "text": [
      "159 :: [13] # __data__\\Geolife Trajectories 1.3\\Data\\159\\Trajectory\n"
     ]
    },
    {
     "name": "stderr",
     "output_type": "stream",
     "text": [
      "100%|██████████| 13/13 [00:00<00:00, 380.72it/s]\n"
     ]
    },
    {
     "name": "stdout",
     "output_type": "stream",
     "text": [
      "160 :: [3] # __data__\\Geolife Trajectories 1.3\\Data\\160\\Trajectory\n"
     ]
    },
    {
     "name": "stderr",
     "output_type": "stream",
     "text": [
      "100%|██████████| 3/3 [00:00<00:00, 191.83it/s]\n"
     ]
    },
    {
     "name": "stdout",
     "output_type": "stream",
     "text": [
      "161 :: [16] # __data__\\Geolife Trajectories 1.3\\Data\\161\\Trajectory\n"
     ]
    },
    {
     "name": "stderr",
     "output_type": "stream",
     "text": [
      "100%|██████████| 16/16 [00:00<?, ?it/s]\n"
     ]
    },
    {
     "name": "stdout",
     "output_type": "stream",
     "text": [
      "162 :: [11] # __data__\\Geolife Trajectories 1.3\\Data\\162\\Trajectory\n"
     ]
    },
    {
     "name": "stderr",
     "output_type": "stream",
     "text": [
      "100%|██████████| 11/11 [00:00<00:00, 5679.84it/s]\n"
     ]
    },
    {
     "name": "stdout",
     "output_type": "stream",
     "text": [
      "163 :: [809] # __data__\\Geolife Trajectories 1.3\\Data\\163\\Trajectory\n"
     ]
    },
    {
     "name": "stderr",
     "output_type": "stream",
     "text": [
      "100%|██████████| 809/809 [00:00<00:00, 1023.30it/s]\n"
     ]
    },
    {
     "name": "stdout",
     "output_type": "stream",
     "text": [
      "164 :: [7] # __data__\\Geolife Trajectories 1.3\\Data\\164\\Trajectory\n"
     ]
    },
    {
     "name": "stderr",
     "output_type": "stream",
     "text": [
      "100%|██████████| 7/7 [00:00<00:00, 2337.40it/s]\n"
     ]
    },
    {
     "name": "stdout",
     "output_type": "stream",
     "text": [
      "165 :: [26] # __data__\\Geolife Trajectories 1.3\\Data\\165\\Trajectory\n"
     ]
    },
    {
     "name": "stderr",
     "output_type": "stream",
     "text": [
      "100%|██████████| 26/26 [00:00<00:00, 230.66it/s]\n"
     ]
    },
    {
     "name": "stdout",
     "output_type": "stream",
     "text": [
      "166 :: [8] # __data__\\Geolife Trajectories 1.3\\Data\\166\\Trajectory\n"
     ]
    },
    {
     "name": "stderr",
     "output_type": "stream",
     "text": [
      "100%|██████████| 8/8 [00:00<00:00, 1597.83it/s]\n"
     ]
    },
    {
     "name": "stdout",
     "output_type": "stream",
     "text": [
      "167 :: [385] # __data__\\Geolife Trajectories 1.3\\Data\\167\\Trajectory\n"
     ]
    },
    {
     "name": "stderr",
     "output_type": "stream",
     "text": [
      "100%|██████████| 385/385 [00:00<00:00, 771.04it/s] \n"
     ]
    },
    {
     "name": "stdout",
     "output_type": "stream",
     "text": [
      "168 :: [97] # __data__\\Geolife Trajectories 1.3\\Data\\168\\Trajectory\n"
     ]
    },
    {
     "name": "stderr",
     "output_type": "stream",
     "text": [
      "100%|██████████| 97/97 [00:00<00:00, 719.89it/s]\n"
     ]
    },
    {
     "name": "stdout",
     "output_type": "stream",
     "text": [
      "169 :: [36] # __data__\\Geolife Trajectories 1.3\\Data\\169\\Trajectory\n"
     ]
    },
    {
     "name": "stderr",
     "output_type": "stream",
     "text": [
      "100%|██████████| 36/36 [00:00<00:00, 1089.37it/s]\n"
     ]
    },
    {
     "name": "stdout",
     "output_type": "stream",
     "text": [
      "170 :: [5] # __data__\\Geolife Trajectories 1.3\\Data\\170\\Trajectory\n"
     ]
    },
    {
     "name": "stderr",
     "output_type": "stream",
     "text": [
      "100%|██████████| 5/5 [00:00<00:00, 286.69it/s]\n"
     ]
    },
    {
     "name": "stdout",
     "output_type": "stream",
     "text": [
      "171 :: [5] # __data__\\Geolife Trajectories 1.3\\Data\\171\\Trajectory\n"
     ]
    },
    {
     "name": "stderr",
     "output_type": "stream",
     "text": [
      "100%|██████████| 5/5 [00:00<?, ?it/s]\n"
     ]
    },
    {
     "name": "stdout",
     "output_type": "stream",
     "text": [
      "172 :: [21] # __data__\\Geolife Trajectories 1.3\\Data\\172\\Trajectory\n"
     ]
    },
    {
     "name": "stderr",
     "output_type": "stream",
     "text": [
      "100%|██████████| 21/21 [00:00<00:00, 476.45it/s]\n"
     ]
    },
    {
     "name": "stdout",
     "output_type": "stream",
     "text": [
      "173 :: [6] # __data__\\Geolife Trajectories 1.3\\Data\\173\\Trajectory\n"
     ]
    },
    {
     "name": "stderr",
     "output_type": "stream",
     "text": [
      "100%|██████████| 6/6 [00:00<?, ?it/s]\n"
     ]
    },
    {
     "name": "stdout",
     "output_type": "stream",
     "text": [
      "174 :: [70] # __data__\\Geolife Trajectories 1.3\\Data\\174\\Trajectory\n"
     ]
    },
    {
     "name": "stderr",
     "output_type": "stream",
     "text": [
      "100%|██████████| 70/70 [00:00<00:00, 2074.79it/s]\n"
     ]
    },
    {
     "name": "stdout",
     "output_type": "stream",
     "text": [
      "175 :: [4] # __data__\\Geolife Trajectories 1.3\\Data\\175\\Trajectory\n"
     ]
    },
    {
     "name": "stderr",
     "output_type": "stream",
     "text": [
      "100%|██████████| 4/4 [00:00<?, ?it/s]\n"
     ]
    },
    {
     "name": "stdout",
     "output_type": "stream",
     "text": [
      "176 :: [8] # __data__\\Geolife Trajectories 1.3\\Data\\176\\Trajectory\n"
     ]
    },
    {
     "name": "stderr",
     "output_type": "stream",
     "text": [
      "100%|██████████| 8/8 [00:00<00:00, 504.79it/s]\n"
     ]
    },
    {
     "name": "stdout",
     "output_type": "stream",
     "text": [
      "177 :: [1] # __data__\\Geolife Trajectories 1.3\\Data\\177\\Trajectory\n"
     ]
    },
    {
     "name": "stderr",
     "output_type": "stream",
     "text": [
      "100%|██████████| 1/1 [00:00<?, ?it/s]\n"
     ]
    },
    {
     "name": "stdout",
     "output_type": "stream",
     "text": [
      "178 :: [1] # __data__\\Geolife Trajectories 1.3\\Data\\178\\Trajectory\n"
     ]
    },
    {
     "name": "stderr",
     "output_type": "stream",
     "text": [
      "100%|██████████| 1/1 [00:00<?, ?it/s]\n"
     ]
    },
    {
     "name": "stdout",
     "output_type": "stream",
     "text": [
      "179 :: [71] # __data__\\Geolife Trajectories 1.3\\Data\\179\\Trajectory\n"
     ]
    },
    {
     "name": "stderr",
     "output_type": "stream",
     "text": [
      "100%|██████████| 71/71 [00:00<00:00, 719.36it/s]\n"
     ]
    },
    {
     "name": "stdout",
     "output_type": "stream",
     "text": [
      "180 :: [5] # __data__\\Geolife Trajectories 1.3\\Data\\180\\Trajectory\n"
     ]
    },
    {
     "name": "stderr",
     "output_type": "stream",
     "text": [
      "100%|██████████| 5/5 [00:00<00:00, 98.50it/s]\n"
     ]
    },
    {
     "name": "stdout",
     "output_type": "stream",
     "text": [
      "181 :: [15] # __data__\\Geolife Trajectories 1.3\\Data\\181\\Trajectory\n"
     ]
    },
    {
     "name": "stderr",
     "output_type": "stream",
     "text": [
      "100%|██████████| 15/15 [00:00<?, ?it/s]\n"
     ]
    }
   ],
   "source": [
    "# execute filtering\n",
    "for uid in user_ids:\n",
    "    #user_data[uid] = None\n",
    "    \n",
    "    user_data_path = os.path.join(dataset_path,f'{uid}', 'Trajectory')\n",
    "    user_trajectories = [(t[:-4], os.path.join(user_data_path, t)) for t in os.listdir(user_data_path) if t.endswith('.plt')]\n",
    "    n_trajectories = len(user_trajectories)\n",
    "    print(f'{uid} :: [{len(user_trajectories)}] # {user_data_path}')\n",
    "    read_plt(uid, user_trajectories)\n",
    "\n",
    "    \n"
   ]
  },
  {
   "cell_type": "markdown",
   "metadata": {},
   "source": [
    "# Resample Data\n",
    "\n",
    "need to resample to one sample per `quanta`"
   ]
  },
  {
   "cell_type": "code",
   "execution_count": 8,
   "metadata": {},
   "outputs": [
    {
     "data": {
      "text/plain": [
       "913"
      ]
     },
     "execution_count": 8,
     "metadata": {},
     "output_type": "execute_result"
    }
   ],
   "source": [
    "\n",
    "class TrajectorySet:\n",
    "\n",
    "    def __init__(self, basedir) -> None:\n",
    "        self.basedir = basedir\n",
    "        self._make()\n",
    "\n",
    "    def _make(self):\n",
    "        #files = [os.path.join(self.basedir, i) for i in os.listdir(self.basedir) if i.endswith('.csv')]\n",
    "        self.data = {i[:-4]:None for i in os.listdir(self.basedir) if i.endswith('.csv')}\n",
    "        self.keys = list(self.data.keys())\n",
    "        self.count = len(self.keys)\n",
    "\n",
    "    def __call__(self, key_or_index):\n",
    "        if not isinstance(key_or_index, str): key_or_index = self.keys [int(key_or_index)]\n",
    "        res = self.data[key_or_index]\n",
    "        if res is None: \n",
    "            self.data[key_or_index] =  self._make_csvdf(f'{key_or_index}.csv')\n",
    "            res = self.data[key_or_index]\n",
    "        return res\n",
    "                                                                                 \n",
    "    def __len__(self): return self.count\n",
    "\n",
    "    def _make_csvdf(self, csv):\n",
    "        path = os.path.join(self.basedir, csv)\n",
    "        df=pd.read_csv(path, keep_date_col=False, parse_dates=[['d', 't']])\n",
    "        #df['u'] = uid\n",
    "        df.rename(columns={\"d_t\": \"dt\"}, inplace=True)\n",
    "        return df[['dt', 'x', 'y']] # user_is, date_time, x, y\n",
    "    \n",
    "ds = TrajectorySet(basedir=os.path.join(\"__data__\", \"Geolife Trajectories CSV\")) \n",
    "len(ds)\n",
    "        "
   ]
  },
  {
   "cell_type": "markdown",
   "metadata": {},
   "source": [
    "resampler"
   ]
  },
  {
   "cell_type": "code",
   "execution_count": 9,
   "metadata": {},
   "outputs": [],
   "source": [
    "\n",
    "def resample_df(dfx):\n",
    "    if len(dfx)<=0: return\n",
    "    dfl = pd.to_datetime(dfx.dt)\n",
    "    td = pd.Timedelta(seconds=1)\n",
    "\n",
    "    tL, xL, yL = [], [], []\n",
    "    for i in range(len(dfl)-1):\n",
    "        t1, t2 = dfl[i], dfl[i+1]\n",
    "        x1, y1 = dfx.iloc[i].x, dfx.iloc[i].y\n",
    "        x2, y2 = dfx.iloc[i+1].x, dfx.iloc[i+1].y\n",
    "        #print(x1, x2)\n",
    "        #print(t1, t2)\n",
    "        nsec = (t2-t1).seconds\n",
    "        xv = np.linspace(x1, x2, nsec, endpoint=False)\n",
    "        yv = np.linspace(y1, y2, nsec, endpoint=False)\n",
    "        xL.extend(xv)\n",
    "        yL.extend(yv)\n",
    "        tL.extend([t1 + ii*td for ii in range(nsec)])\n",
    "        #print (xv.shape, xv)\n",
    "        #if i > 2:break\n",
    "\n",
    "    dfnew = pd.DataFrame(dict(dt=tL, x=xL, y=yL))\n",
    "    print(f'Trajectory Points:  {len(dfnew)}')\n",
    "    return dfnew\n"
   ]
  },
  {
   "cell_type": "markdown",
   "metadata": {},
   "source": [
    "execute resampler"
   ]
  },
  {
   "cell_type": "code",
   "execution_count": 10,
   "metadata": {},
   "outputs": [
    {
     "name": "stdout",
     "output_type": "stream",
     "text": [
      "Trajectory Points:  17669\n",
      "Trajectory Points:  106312\n",
      "Trajectory Points:  16385\n",
      "Trajectory Points:  17528\n",
      "Trajectory Points:  31240\n",
      "Trajectory Points:  14955\n",
      "Trajectory Points:  31268\n",
      "Trajectory Points:  26803\n",
      "Trajectory Points:  28988\n",
      "Trajectory Points:  21770\n",
      "Trajectory Points:  28427\n",
      "Trajectory Points:  35050\n",
      "Trajectory Points:  25635\n",
      "Trajectory Points:  14987\n",
      "Trajectory Points:  11844\n",
      "Trajectory Points:  14339\n",
      "Trajectory Points:  14667\n",
      "Trajectory Points:  13613\n",
      "Trajectory Points:  21091\n",
      "Trajectory Points:  14032\n",
      "Trajectory Points:  16954\n",
      "Trajectory Points:  12467\n",
      "Trajectory Points:  18964\n",
      "Trajectory Points:  13880\n",
      "Trajectory Points:  14835\n",
      "Trajectory Points:  11965\n",
      "Trajectory Points:  12065\n",
      "Trajectory Points:  14934\n",
      "Trajectory Points:  33201\n",
      "Trajectory Points:  15751\n",
      "Trajectory Points:  13836\n",
      "Trajectory Points:  102815\n",
      "Trajectory Points:  107248\n",
      "Trajectory Points:  31240\n",
      "Trajectory Points:  31268\n",
      "Trajectory Points:  17669\n",
      "Trajectory Points:  106312\n",
      "Trajectory Points:  16385\n",
      "Trajectory Points:  17528\n",
      "Trajectory Points:  21004\n",
      "Trajectory Points:  16045\n",
      "Trajectory Points:  33324\n",
      "Trajectory Points:  18519\n",
      "Trajectory Points:  30395\n",
      "Trajectory Points:  25686\n",
      "Trajectory Points:  34658\n",
      "Trajectory Points:  11590\n",
      "Trajectory Points:  11649\n",
      "Trajectory Points:  29655\n",
      "Trajectory Points:  17872\n",
      "Trajectory Points:  13037\n",
      "Trajectory Points:  24129\n",
      "Trajectory Points:  29316\n",
      "Trajectory Points:  14330\n",
      "Trajectory Points:  11096\n",
      "Trajectory Points:  13737\n",
      "Trajectory Points:  20295\n",
      "Trajectory Points:  12960\n",
      "Trajectory Points:  13938\n",
      "Trajectory Points:  13434\n",
      "Trajectory Points:  19753\n",
      "Trajectory Points:  27479\n",
      "Trajectory Points:  26905\n",
      "Trajectory Points:  33396\n",
      "Trajectory Points:  28335\n",
      "Trajectory Points:  29140\n",
      "Trajectory Points:  17217\n",
      "Trajectory Points:  28077\n",
      "Trajectory Points:  25143\n",
      "Trajectory Points:  30183\n",
      "Trajectory Points:  29207\n",
      "Trajectory Points:  21608\n",
      "Trajectory Points:  27336\n",
      "Trajectory Points:  16837\n",
      "Trajectory Points:  25645\n",
      "Trajectory Points:  27696\n",
      "Trajectory Points:  22630\n",
      "Trajectory Points:  18168\n",
      "Trajectory Points:  25235\n",
      "Trajectory Points:  12338\n",
      "Trajectory Points:  28860\n",
      "Trajectory Points:  10930\n",
      "Trajectory Points:  15100\n",
      "Trajectory Points:  17375\n",
      "Trajectory Points:  25203\n",
      "Trajectory Points:  20151\n",
      "Trajectory Points:  12766\n",
      "Trajectory Points:  21617\n",
      "Trajectory Points:  16619\n",
      "Trajectory Points:  19514\n",
      "Trajectory Points:  13961\n",
      "Trajectory Points:  22840\n",
      "Trajectory Points:  17201\n",
      "Trajectory Points:  24845\n",
      "Trajectory Points:  21892\n",
      "Trajectory Points:  19463\n",
      "Trajectory Points:  16303\n",
      "Trajectory Points:  27486\n",
      "Trajectory Points:  15483\n",
      "Trajectory Points:  11163\n",
      "Trajectory Points:  15848\n",
      "Trajectory Points:  12037\n",
      "Trajectory Points:  14687\n",
      "Trajectory Points:  20827\n",
      "Trajectory Points:  13314\n",
      "Trajectory Points:  15977\n",
      "Trajectory Points:  26536\n",
      "Trajectory Points:  20263\n",
      "Trajectory Points:  20445\n",
      "Trajectory Points:  20989\n",
      "Trajectory Points:  12429\n",
      "Trajectory Points:  30898\n",
      "Trajectory Points:  27338\n",
      "Trajectory Points:  27848\n",
      "Trajectory Points:  21064\n",
      "Trajectory Points:  24463\n",
      "Trajectory Points:  15696\n",
      "Trajectory Points:  11152\n",
      "Trajectory Points:  30222\n",
      "Trajectory Points:  21926\n",
      "Trajectory Points:  33523\n",
      "Trajectory Points:  11555\n",
      "Trajectory Points:  19207\n",
      "Trajectory Points:  25280\n",
      "Trajectory Points:  11116\n",
      "Trajectory Points:  14100\n",
      "Trajectory Points:  18665\n",
      "Trajectory Points:  34231\n",
      "Trajectory Points:  21698\n",
      "Trajectory Points:  33591\n",
      "Trajectory Points:  15373\n",
      "Trajectory Points:  24375\n",
      "Trajectory Points:  13346\n",
      "Trajectory Points:  21388\n",
      "Trajectory Points:  12988\n",
      "Trajectory Points:  22468\n",
      "Trajectory Points:  19139\n",
      "Trajectory Points:  22691\n",
      "Trajectory Points:  11979\n",
      "Trajectory Points:  24211\n",
      "Trajectory Points:  30512\n",
      "Trajectory Points:  10889\n",
      "Trajectory Points:  26775\n",
      "Trajectory Points:  13394\n",
      "Trajectory Points:  29373\n",
      "Trajectory Points:  19958\n",
      "Trajectory Points:  24062\n",
      "Trajectory Points:  14835\n",
      "Trajectory Points:  17333\n",
      "Trajectory Points:  15473\n",
      "Trajectory Points:  32104\n",
      "Trajectory Points:  25031\n",
      "Trajectory Points:  22019\n",
      "Trajectory Points:  13131\n",
      "Trajectory Points:  13822\n",
      "Trajectory Points:  11025\n",
      "Trajectory Points:  14734\n",
      "Trajectory Points:  18128\n",
      "Trajectory Points:  18497\n",
      "Trajectory Points:  30704\n",
      "Trajectory Points:  26660\n",
      "Trajectory Points:  28411\n",
      "Trajectory Points:  26878\n",
      "Trajectory Points:  23941\n",
      "Trajectory Points:  12524\n",
      "Trajectory Points:  14660\n",
      "Trajectory Points:  32530\n",
      "Trajectory Points:  31136\n",
      "Trajectory Points:  18162\n",
      "Trajectory Points:  11459\n",
      "Trajectory Points:  15512\n",
      "Trajectory Points:  26730\n",
      "Trajectory Points:  13616\n",
      "Trajectory Points:  22705\n",
      "Trajectory Points:  28300\n",
      "Trajectory Points:  33732\n",
      "Trajectory Points:  30215\n",
      "Trajectory Points:  25158\n",
      "Trajectory Points:  32245\n",
      "Trajectory Points:  18954\n",
      "Trajectory Points:  16995\n",
      "Trajectory Points:  23135\n",
      "Trajectory Points:  14040\n",
      "Trajectory Points:  22624\n",
      "Trajectory Points:  22624\n",
      "Trajectory Points:  28505\n",
      "Trajectory Points:  15208\n",
      "Trajectory Points:  32193\n",
      "Trajectory Points:  11932\n",
      "Trajectory Points:  24947\n",
      "Trajectory Points:  15251\n",
      "Trajectory Points:  25547\n",
      "Trajectory Points:  13081\n",
      "Trajectory Points:  12983\n",
      "Trajectory Points:  34804\n",
      "Trajectory Points:  35509\n",
      "Trajectory Points:  32475\n",
      "Trajectory Points:  12992\n",
      "Trajectory Points:  25013\n",
      "Trajectory Points:  16881\n",
      "Trajectory Points:  35111\n",
      "Trajectory Points:  28551\n",
      "Trajectory Points:  28826\n",
      "Trajectory Points:  11601\n",
      "Trajectory Points:  14100\n",
      "Trajectory Points:  19004\n",
      "Trajectory Points:  22086\n",
      "Trajectory Points:  33932\n",
      "Trajectory Points:  17192\n",
      "Trajectory Points:  11082\n",
      "Trajectory Points:  19200\n",
      "Trajectory Points:  19229\n",
      "Trajectory Points:  26293\n",
      "Trajectory Points:  25573\n",
      "Trajectory Points:  13169\n",
      "Trajectory Points:  34246\n",
      "Trajectory Points:  20375\n",
      "Trajectory Points:  31323\n",
      "Trajectory Points:  108035\n",
      "Trajectory Points:  30495\n",
      "Trajectory Points:  26207\n",
      "Trajectory Points:  27899\n",
      "Trajectory Points:  25084\n",
      "Trajectory Points:  27494\n",
      "Trajectory Points:  117536\n",
      "Trajectory Points:  15715\n",
      "Trajectory Points:  11381\n",
      "Trajectory Points:  19347\n",
      "Trajectory Points:  13057\n",
      "Trajectory Points:  15444\n",
      "Trajectory Points:  15293\n",
      "Trajectory Points:  11707\n",
      "Trajectory Points:  33499\n",
      "Trajectory Points:  13297\n",
      "Trajectory Points:  15219\n",
      "Trajectory Points:  17993\n",
      "Trajectory Points:  11204\n",
      "Trajectory Points:  13595\n",
      "Trajectory Points:  11571\n",
      "Trajectory Points:  12351\n",
      "Trajectory Points:  22889\n",
      "Trajectory Points:  30695\n",
      "Trajectory Points:  13951\n",
      "Trajectory Points:  18727\n",
      "Trajectory Points:  12059\n",
      "Trajectory Points:  26585\n",
      "Trajectory Points:  23807\n",
      "Trajectory Points:  16941\n",
      "Trajectory Points:  20852\n",
      "Trajectory Points:  35516\n",
      "Trajectory Points:  17104\n",
      "Trajectory Points:  22517\n",
      "Trajectory Points:  22004\n",
      "Trajectory Points:  25519\n",
      "Trajectory Points:  10838\n",
      "Trajectory Points:  20280\n",
      "Trajectory Points:  31422\n",
      "Trajectory Points:  13999\n",
      "Trajectory Points:  20106\n",
      "Trajectory Points:  15181\n",
      "Trajectory Points:  27632\n",
      "Trajectory Points:  15266\n",
      "Trajectory Points:  15160\n",
      "Trajectory Points:  18583\n",
      "Trajectory Points:  16555\n",
      "Trajectory Points:  21811\n",
      "Trajectory Points:  12525\n",
      "Trajectory Points:  11140\n",
      "Trajectory Points:  25825\n",
      "Trajectory Points:  17110\n",
      "Trajectory Points:  14345\n",
      "Trajectory Points:  16675\n",
      "Trajectory Points:  27765\n",
      "Trajectory Points:  13888\n",
      "Trajectory Points:  10833\n",
      "Trajectory Points:  25130\n",
      "Trajectory Points:  20151\n",
      "Trajectory Points:  11098\n",
      "Trajectory Points:  15621\n",
      "Trajectory Points:  17290\n",
      "Trajectory Points:  14954\n",
      "Trajectory Points:  11166\n",
      "Trajectory Points:  11108\n",
      "Trajectory Points:  14231\n",
      "Trajectory Points:  10985\n",
      "Trajectory Points:  19385\n",
      "Trajectory Points:  14547\n",
      "Trajectory Points:  14823\n",
      "Trajectory Points:  17227\n",
      "Trajectory Points:  11684\n",
      "Trajectory Points:  14127\n",
      "Trajectory Points:  13526\n",
      "Trajectory Points:  12817\n",
      "Trajectory Points:  13262\n",
      "Trajectory Points:  18275\n",
      "Trajectory Points:  17298\n",
      "Trajectory Points:  10951\n",
      "Trajectory Points:  11140\n",
      "Trajectory Points:  10936\n",
      "Trajectory Points:  13954\n",
      "Trajectory Points:  12248\n",
      "Trajectory Points:  13233\n",
      "Trajectory Points:  17938\n",
      "Trajectory Points:  12164\n",
      "Trajectory Points:  15181\n",
      "Trajectory Points:  21297\n",
      "Trajectory Points:  25210\n",
      "Trajectory Points:  20230\n",
      "Trajectory Points:  20089\n",
      "Trajectory Points:  31087\n",
      "Trajectory Points:  32012\n",
      "Trajectory Points:  28591\n",
      "Trajectory Points:  28060\n",
      "Trajectory Points:  24578\n",
      "Trajectory Points:  32131\n",
      "Trajectory Points:  30654\n",
      "Trajectory Points:  23233\n",
      "Trajectory Points:  22094\n",
      "Trajectory Points:  28962\n",
      "Trajectory Points:  12209\n",
      "Trajectory Points:  33577\n",
      "Trajectory Points:  32829\n",
      "Trajectory Points:  26014\n",
      "Trajectory Points:  14285\n",
      "Trajectory Points:  20133\n",
      "Trajectory Points:  23597\n",
      "Trajectory Points:  26808\n",
      "Trajectory Points:  24163\n",
      "Trajectory Points:  31807\n",
      "Trajectory Points:  31086\n",
      "Trajectory Points:  13765\n",
      "Trajectory Points:  27092\n",
      "Trajectory Points:  14591\n",
      "Trajectory Points:  14870\n",
      "Trajectory Points:  27295\n",
      "Trajectory Points:  25984\n",
      "Trajectory Points:  26721\n",
      "Trajectory Points:  15965\n",
      "Trajectory Points:  15815\n",
      "Trajectory Points:  28274\n",
      "Trajectory Points:  20942\n",
      "Trajectory Points:  17731\n",
      "Trajectory Points:  27640\n",
      "Trajectory Points:  28733\n",
      "Trajectory Points:  13887\n",
      "Trajectory Points:  13887\n",
      "Trajectory Points:  19582\n",
      "Trajectory Points:  19582\n",
      "Trajectory Points:  29720\n",
      "Trajectory Points:  21570\n",
      "Trajectory Points:  18532\n",
      "Trajectory Points:  24123\n",
      "Trajectory Points:  14708\n",
      "Trajectory Points:  17461\n",
      "Trajectory Points:  24331\n",
      "Trajectory Points:  13731\n",
      "Trajectory Points:  11842\n",
      "Trajectory Points:  21186\n",
      "Trajectory Points:  17191\n",
      "Trajectory Points:  28635\n",
      "Trajectory Points:  16603\n",
      "Trajectory Points:  17890\n",
      "Trajectory Points:  18495\n",
      "Trajectory Points:  22590\n",
      "Trajectory Points:  31222\n",
      "Trajectory Points:  29805\n",
      "Trajectory Points:  32431\n",
      "Trajectory Points:  31888\n",
      "Trajectory Points:  16880\n",
      "Trajectory Points:  20228\n",
      "Trajectory Points:  15006\n",
      "Trajectory Points:  10945\n",
      "Trajectory Points:  12274\n",
      "Trajectory Points:  18279\n",
      "Trajectory Points:  24595\n",
      "Trajectory Points:  17112\n",
      "Trajectory Points:  16937\n",
      "Trajectory Points:  28382\n",
      "Trajectory Points:  23898\n",
      "Trajectory Points:  12627\n",
      "Trajectory Points:  11840\n",
      "Trajectory Points:  22364\n",
      "Trajectory Points:  16379\n",
      "Trajectory Points:  24374\n",
      "Trajectory Points:  14187\n",
      "Trajectory Points:  24851\n",
      "Trajectory Points:  23352\n",
      "Trajectory Points:  22501\n",
      "Trajectory Points:  29587\n",
      "Trajectory Points:  23247\n",
      "Trajectory Points:  11961\n",
      "Trajectory Points:  20728\n",
      "Trajectory Points:  13945\n",
      "Trajectory Points:  11544\n",
      "Trajectory Points:  18495\n",
      "Trajectory Points:  14524\n",
      "Trajectory Points:  20972\n",
      "Trajectory Points:  14952\n",
      "Trajectory Points:  27397\n",
      "Trajectory Points:  22234\n",
      "Trajectory Points:  12086\n",
      "Trajectory Points:  13668\n",
      "Trajectory Points:  15774\n",
      "Trajectory Points:  22960\n",
      "Trajectory Points:  23938\n",
      "Trajectory Points:  30329\n",
      "Trajectory Points:  18461\n",
      "Trajectory Points:  11219\n",
      "Trajectory Points:  31377\n",
      "Trajectory Points:  12383\n",
      "Trajectory Points:  33612\n",
      "Trajectory Points:  14256\n",
      "Trajectory Points:  17156\n",
      "Trajectory Points:  24269\n",
      "Trajectory Points:  13214\n",
      "Trajectory Points:  34139\n",
      "Trajectory Points:  23763\n",
      "Trajectory Points:  18952\n",
      "Trajectory Points:  26227\n",
      "Trajectory Points:  16522\n",
      "Trajectory Points:  31575\n",
      "Trajectory Points:  13385\n",
      "Trajectory Points:  11499\n",
      "Trajectory Points:  23553\n",
      "Trajectory Points:  24274\n",
      "Trajectory Points:  11554\n",
      "Trajectory Points:  18381\n",
      "Trajectory Points:  14705\n",
      "Trajectory Points:  35016\n",
      "Trajectory Points:  19867\n",
      "Trajectory Points:  27344\n",
      "Trajectory Points:  13179\n",
      "Trajectory Points:  14077\n",
      "Trajectory Points:  12045\n",
      "Trajectory Points:  21897\n",
      "Trajectory Points:  10951\n",
      "Trajectory Points:  28261\n",
      "Trajectory Points:  24736\n",
      "Trajectory Points:  16291\n",
      "Trajectory Points:  13434\n",
      "Trajectory Points:  32223\n",
      "Trajectory Points:  29361\n",
      "Trajectory Points:  23266\n",
      "Trajectory Points:  19064\n",
      "Trajectory Points:  28414\n",
      "Trajectory Points:  16702\n",
      "Trajectory Points:  19270\n",
      "Trajectory Points:  12283\n",
      "Trajectory Points:  24554\n",
      "Trajectory Points:  14335\n",
      "Trajectory Points:  14925\n",
      "Trajectory Points:  28850\n",
      "Trajectory Points:  20399\n",
      "Trajectory Points:  20887\n",
      "Trajectory Points:  21942\n",
      "Trajectory Points:  30307\n",
      "Trajectory Points:  18512\n",
      "Trajectory Points:  30848\n",
      "Trajectory Points:  35842\n",
      "Trajectory Points:  16703\n",
      "Trajectory Points:  19299\n",
      "Trajectory Points:  25997\n",
      "Trajectory Points:  11177\n",
      "Trajectory Points:  12577\n",
      "Trajectory Points:  22788\n",
      "Trajectory Points:  25879\n",
      "Trajectory Points:  19640\n",
      "Trajectory Points:  16819\n",
      "Trajectory Points:  14188\n",
      "Trajectory Points:  27843\n",
      "Trajectory Points:  14302\n",
      "Trajectory Points:  30620\n",
      "Trajectory Points:  23990\n",
      "Trajectory Points:  26882\n",
      "Trajectory Points:  35318\n",
      "Trajectory Points:  20639\n",
      "Trajectory Points:  20364\n",
      "Trajectory Points:  29726\n",
      "Trajectory Points:  22151\n",
      "Trajectory Points:  11691\n",
      "Trajectory Points:  14244\n",
      "Trajectory Points:  25403\n",
      "Trajectory Points:  13145\n",
      "Trajectory Points:  27905\n",
      "Trajectory Points:  15433\n",
      "Trajectory Points:  19908\n",
      "Trajectory Points:  23017\n",
      "Trajectory Points:  24315\n",
      "Trajectory Points:  33514\n",
      "Trajectory Points:  16980\n",
      "Trajectory Points:  12490\n",
      "Trajectory Points:  11404\n",
      "Trajectory Points:  20005\n",
      "Trajectory Points:  24605\n",
      "Trajectory Points:  21657\n",
      "Trajectory Points:  14329\n",
      "Trajectory Points:  13821\n",
      "Trajectory Points:  24595\n",
      "Trajectory Points:  18142\n",
      "Trajectory Points:  21708\n",
      "Trajectory Points:  21006\n",
      "Trajectory Points:  25404\n",
      "Trajectory Points:  21622\n",
      "Trajectory Points:  17112\n",
      "Trajectory Points:  17445\n",
      "Trajectory Points:  15944\n",
      "Trajectory Points:  18881\n",
      "Trajectory Points:  23290\n",
      "Trajectory Points:  26121\n",
      "Trajectory Points:  10940\n",
      "Trajectory Points:  35086\n",
      "Trajectory Points:  20448\n",
      "Trajectory Points:  27617\n",
      "Trajectory Points:  11388\n",
      "Trajectory Points:  18361\n",
      "Trajectory Points:  16525\n",
      "Trajectory Points:  28974\n",
      "Trajectory Points:  24015\n",
      "Trajectory Points:  29655\n",
      "Trajectory Points:  28701\n",
      "Trajectory Points:  28808\n",
      "Trajectory Points:  14155\n",
      "Trajectory Points:  18072\n",
      "Trajectory Points:  13348\n",
      "Trajectory Points:  10921\n",
      "Trajectory Points:  13692\n",
      "Trajectory Points:  15626\n",
      "Trajectory Points:  30541\n",
      "Trajectory Points:  13090\n",
      "Trajectory Points:  15296\n",
      "Trajectory Points:  12744\n",
      "Trajectory Points:  21607\n",
      "Trajectory Points:  25107\n",
      "Trajectory Points:  35134\n",
      "Trajectory Points:  18128\n",
      "Trajectory Points:  14440\n",
      "Trajectory Points:  16626\n",
      "Trajectory Points:  31940\n",
      "Trajectory Points:  31494\n",
      "Trajectory Points:  18599\n",
      "Trajectory Points:  22324\n",
      "Trajectory Points:  19563\n",
      "Trajectory Points:  31953\n",
      "Trajectory Points:  19446\n",
      "Trajectory Points:  25767\n",
      "Trajectory Points:  24461\n",
      "Trajectory Points:  14197\n",
      "Trajectory Points:  30208\n",
      "Trajectory Points:  28210\n",
      "Trajectory Points:  33502\n",
      "Trajectory Points:  10983\n",
      "Trajectory Points:  10960\n",
      "Trajectory Points:  11365\n",
      "Trajectory Points:  14963\n",
      "Trajectory Points:  18937\n",
      "Trajectory Points:  17541\n",
      "Trajectory Points:  19294\n",
      "Trajectory Points:  11644\n",
      "Trajectory Points:  13080\n",
      "Trajectory Points:  13244\n",
      "Trajectory Points:  17538\n",
      "Trajectory Points:  10945\n",
      "Trajectory Points:  35339\n",
      "Trajectory Points:  22457\n",
      "Trajectory Points:  11921\n",
      "Trajectory Points:  11255\n",
      "Trajectory Points:  29775\n",
      "Trajectory Points:  16426\n",
      "Trajectory Points:  18521\n",
      "Trajectory Points:  18046\n",
      "Trajectory Points:  10802\n",
      "Trajectory Points:  26121\n",
      "Trajectory Points:  15626\n",
      "Trajectory Points:  12744\n",
      "Trajectory Points:  15307\n",
      "Trajectory Points:  25434\n",
      "Trajectory Points:  27255\n",
      "Trajectory Points:  33524\n",
      "Trajectory Points:  16387\n",
      "Trajectory Points:  12647\n",
      "Trajectory Points:  13210\n",
      "Trajectory Points:  25246\n",
      "Trajectory Points:  14741\n",
      "Trajectory Points:  16197\n",
      "Trajectory Points:  34196\n",
      "Trajectory Points:  104147\n",
      "Trajectory Points:  15414\n",
      "Trajectory Points:  14334\n",
      "Trajectory Points:  15046\n",
      "Trajectory Points:  13154\n",
      "Trajectory Points:  17965\n",
      "Trajectory Points:  14323\n",
      "Trajectory Points:  18063\n",
      "Trajectory Points:  16134\n",
      "Trajectory Points:  22717\n",
      "Trajectory Points:  13726\n",
      "Trajectory Points:  17584\n",
      "Trajectory Points:  10816\n",
      "Trajectory Points:  14073\n",
      "Trajectory Points:  32553\n",
      "Trajectory Points:  15012\n",
      "Trajectory Points:  14555\n",
      "Trajectory Points:  14196\n",
      "Trajectory Points:  14842\n",
      "Trajectory Points:  28461\n",
      "Trajectory Points:  14932\n",
      "Trajectory Points:  12552\n",
      "Trajectory Points:  14745\n",
      "Trajectory Points:  17112\n",
      "Trajectory Points:  21699\n",
      "Trajectory Points:  34275\n",
      "Trajectory Points:  21692\n",
      "Trajectory Points:  17424\n",
      "Trajectory Points:  108660\n",
      "Trajectory Points:  24513\n",
      "Trajectory Points:  24125\n",
      "Trajectory Points:  21622\n",
      "Trajectory Points:  18938\n",
      "Trajectory Points:  12429\n",
      "Trajectory Points:  21100\n",
      "Trajectory Points:  16188\n",
      "Trajectory Points:  13287\n",
      "Trajectory Points:  17873\n",
      "Trajectory Points:  22722\n",
      "Trajectory Points:  31107\n",
      "Trajectory Points:  10829\n",
      "Trajectory Points:  26678\n",
      "Trajectory Points:  13374\n",
      "Trajectory Points:  11840\n",
      "Trajectory Points:  13779\n",
      "Trajectory Points:  17143\n",
      "Trajectory Points:  11951\n",
      "Trajectory Points:  26426\n",
      "Trajectory Points:  23217\n",
      "Trajectory Points:  30394\n",
      "Trajectory Points:  27315\n",
      "Trajectory Points:  11664\n",
      "Trajectory Points:  33805\n",
      "Trajectory Points:  11796\n",
      "Trajectory Points:  22537\n",
      "Trajectory Points:  109382\n",
      "Trajectory Points:  13840\n",
      "Trajectory Points:  26906\n",
      "Trajectory Points:  31617\n",
      "Trajectory Points:  18400\n",
      "Trajectory Points:  11956\n",
      "Trajectory Points:  12295\n",
      "Trajectory Points:  12913\n",
      "Trajectory Points:  11747\n",
      "Trajectory Points:  30984\n",
      "Trajectory Points:  22272\n",
      "Trajectory Points:  10929\n",
      "Trajectory Points:  12305\n",
      "Trajectory Points:  27097\n",
      "Trajectory Points:  25937\n",
      "Trajectory Points:  11488\n",
      "Trajectory Points:  17430\n",
      "Trajectory Points:  33514\n",
      "Trajectory Points:  16980\n",
      "Trajectory Points:  32636\n",
      "Trajectory Points:  16206\n",
      "Trajectory Points:  18246\n",
      "Trajectory Points:  13004\n",
      "Trajectory Points:  22085\n",
      "Trajectory Points:  16660\n",
      "Trajectory Points:  113252\n",
      "Trajectory Points:  23360\n",
      "Trajectory Points:  18140\n",
      "Trajectory Points:  20460\n",
      "Trajectory Points:  15537\n",
      "Trajectory Points:  17807\n",
      "Trajectory Points:  12180\n",
      "Trajectory Points:  12735\n",
      "Trajectory Points:  13224\n",
      "Trajectory Points:  23951\n",
      "Trajectory Points:  23167\n",
      "Trajectory Points:  19021\n",
      "Trajectory Points:  12781\n",
      "Trajectory Points:  24649\n",
      "Trajectory Points:  14887\n",
      "Trajectory Points:  17825\n",
      "Trajectory Points:  15024\n",
      "Trajectory Points:  17268\n",
      "Trajectory Points:  10810\n",
      "Trajectory Points:  13377\n",
      "Trajectory Points:  16642\n",
      "Trajectory Points:  19175\n",
      "Trajectory Points:  12358\n",
      "Trajectory Points:  29509\n",
      "Trajectory Points:  22573\n",
      "Trajectory Points:  21576\n",
      "Trajectory Points:  14180\n",
      "Trajectory Points:  29978\n",
      "Trajectory Points:  21944\n",
      "Trajectory Points:  27069\n",
      "Trajectory Points:  16534\n",
      "Trajectory Points:  13921\n",
      "Trajectory Points:  17000\n",
      "Trajectory Points:  14435\n",
      "Trajectory Points:  12675\n",
      "Trajectory Points:  17301\n",
      "Trajectory Points:  14971\n",
      "Trajectory Points:  20556\n",
      "Trajectory Points:  16536\n",
      "Trajectory Points:  12856\n",
      "Trajectory Points:  13393\n",
      "Trajectory Points:  31665\n",
      "Trajectory Points:  13539\n",
      "Trajectory Points:  32967\n",
      "Trajectory Points:  11365\n",
      "Trajectory Points:  12563\n",
      "Trajectory Points:  21628\n",
      "Trajectory Points:  13572\n",
      "Trajectory Points:  29921\n",
      "Trajectory Points:  27029\n",
      "Trajectory Points:  109466\n",
      "Trajectory Points:  14441\n",
      "Trajectory Points:  20726\n",
      "Trajectory Points:  10930\n",
      "Trajectory Points:  17221\n",
      "Trajectory Points:  14392\n",
      "Trajectory Points:  26779\n",
      "Trajectory Points:  16564\n",
      "Trajectory Points:  26184\n",
      "Trajectory Points:  19903\n",
      "Trajectory Points:  13579\n",
      "Trajectory Points:  24572\n",
      "Trajectory Points:  24268\n",
      "Trajectory Points:  22220\n",
      "Trajectory Points:  25531\n",
      "Trajectory Points:  11756\n",
      "Trajectory Points:  13795\n",
      "Trajectory Points:  30713\n",
      "Trajectory Points:  13649\n",
      "Trajectory Points:  17304\n",
      "Trajectory Points:  23658\n",
      "Trajectory Points:  15948\n",
      "Trajectory Points:  16544\n",
      "Trajectory Points:  16146\n",
      "Trajectory Points:  15217\n",
      "Trajectory Points:  17166\n",
      "Trajectory Points:  17797\n",
      "Trajectory Points:  29689\n",
      "Trajectory Points:  11447\n",
      "Trajectory Points:  14961\n",
      "Trajectory Points:  28907\n",
      "Trajectory Points:  32098\n",
      "Trajectory Points:  20586\n",
      "Trajectory Points:  18112\n",
      "Trajectory Points:  33896\n",
      "Trajectory Points:  18384\n",
      "Trajectory Points:  25017\n",
      "Trajectory Points:  11656\n",
      "Trajectory Points:  16211\n",
      "Trajectory Points:  24915\n",
      "Trajectory Points:  18434\n",
      "Trajectory Points:  21947\n",
      "Trajectory Points:  24692\n",
      "Trajectory Points:  32388\n",
      "Trajectory Points:  18858\n",
      "Trajectory Points:  12022\n",
      "Trajectory Points:  17134\n",
      "Trajectory Points:  20180\n",
      "Trajectory Points:  27463\n",
      "Trajectory Points:  17087\n",
      "Trajectory Points:  22097\n",
      "Trajectory Points:  29615\n",
      "Trajectory Points:  27335\n",
      "Trajectory Points:  28395\n",
      "Trajectory Points:  25860\n",
      "Trajectory Points:  15995\n",
      "Trajectory Points:  33457\n",
      "Trajectory Points:  10968\n",
      "Trajectory Points:  12674\n",
      "Trajectory Points:  18504\n",
      "Trajectory Points:  30376\n",
      "Trajectory Points:  14231\n",
      "Trajectory Points:  14325\n",
      "Trajectory Points:  29577\n",
      "Trajectory Points:  22199\n",
      "Trajectory Points:  28087\n",
      "Trajectory Points:  25472\n",
      "Trajectory Points:  18720\n",
      "Trajectory Points:  20943\n",
      "Trajectory Points:  24240\n",
      "Trajectory Points:  13763\n",
      "Trajectory Points:  17630\n",
      "Trajectory Points:  35699\n",
      "Trajectory Points:  21511\n",
      "Trajectory Points:  18371\n",
      "Trajectory Points:  20606\n",
      "Trajectory Points:  25532\n",
      "Trajectory Points:  18366\n",
      "Trajectory Points:  34762\n",
      "Trajectory Points:  29224\n",
      "Trajectory Points:  15897\n",
      "Trajectory Points:  26404\n",
      "Trajectory Points:  11006\n",
      "Trajectory Points:  30637\n",
      "Trajectory Points:  15231\n",
      "Trajectory Points:  29924\n",
      "Trajectory Points:  33123\n",
      "Trajectory Points:  16346\n",
      "Trajectory Points:  27921\n",
      "Trajectory Points:  25156\n",
      "Trajectory Points:  27929\n",
      "Trajectory Points:  21710\n",
      "Trajectory Points:  12891\n",
      "Trajectory Points:  20765\n",
      "Trajectory Points:  15543\n",
      "Trajectory Points:  18538\n",
      "Trajectory Points:  14343\n",
      "Trajectory Points:  34241\n",
      "Trajectory Points:  17112\n",
      "Trajectory Points:  13011\n",
      "Trajectory Points:  14842\n",
      "Trajectory Points:  14231\n",
      "Trajectory Points:  18366\n",
      "Trajectory Points:  34762\n",
      "Trajectory Points:  33123\n",
      "Trajectory Points:  25156\n",
      "Trajectory Points:  27929\n",
      "Trajectory Points:  12891\n",
      "Trajectory Points:  20765\n",
      "Trajectory Points:  15543\n",
      "Trajectory Points:  31665\n",
      "Trajectory Points:  11365\n",
      "Trajectory Points:  12563\n",
      "Trajectory Points:  13572\n",
      "Trajectory Points:  29921\n",
      "Trajectory Points:  27029\n",
      "Trajectory Points:  109466\n",
      "Trajectory Points:  14441\n",
      "Trajectory Points:  26779\n",
      "Trajectory Points:  16564\n",
      "Trajectory Points:  26184\n",
      "Trajectory Points:  27355\n",
      "Trajectory Points:  25894\n",
      "Trajectory Points:  19903\n",
      "Trajectory Points:  24572\n",
      "Trajectory Points:  22220\n",
      "Trajectory Points:  13795\n",
      "Trajectory Points:  30713\n",
      "Trajectory Points:  13649\n",
      "Trajectory Points:  16544\n",
      "Trajectory Points:  17797\n",
      "Trajectory Points:  14973\n",
      "Trajectory Points:  15691\n",
      "Trajectory Points:  12125\n",
      "Trajectory Points:  28858\n",
      "Trajectory Points:  14125\n",
      "Trajectory Points:  11409\n",
      "Trajectory Points:  31452\n",
      "Trajectory Points:  15870\n",
      "Trajectory Points:  17538\n",
      "Trajectory Points:  14396\n",
      "Trajectory Points:  27646\n",
      "Trajectory Points:  16392\n",
      "Trajectory Points:  27141\n",
      "Trajectory Points:  21911\n",
      "Trajectory Points:  16820\n",
      "Trajectory Points:  12285\n",
      "Trajectory Points:  32569\n",
      "Trajectory Points:  18580\n",
      "Trajectory Points:  18124\n",
      "Trajectory Points:  16206\n",
      "Trajectory Points:  21708\n",
      "Trajectory Points:  32889\n",
      "Trajectory Points:  14092\n",
      "Trajectory Points:  22916\n",
      "Trajectory Points:  12734\n",
      "Trajectory Points:  21853\n",
      "Trajectory Points:  14441\n",
      "Trajectory Points:  26347\n",
      "Trajectory Points:  16038\n",
      "Trajectory Points:  17687\n",
      "Trajectory Points:  21962\n",
      "Trajectory Points:  23968\n",
      "Trajectory Points:  31420\n",
      "Trajectory Points:  21628\n",
      "Trajectory Points:  25961\n",
      "Trajectory Points:  20499\n",
      "Trajectory Points:  22655\n",
      "Trajectory Points:  20598\n",
      "Trajectory Points:  17561\n",
      "Trajectory Points:  16641\n",
      "Trajectory Points:  31007\n",
      "Trajectory Points:  28842\n",
      "Trajectory Points:  18965\n",
      "Trajectory Points:  31107\n",
      "Trajectory Points:  10829\n",
      "Trajectory Points:  26678\n",
      "Trajectory Points:  13374\n",
      "Trajectory Points:  13779\n",
      "Trajectory Points:  17143\n",
      "Trajectory Points:  11951\n",
      "Trajectory Points:  26426\n",
      "Trajectory Points:  23217\n",
      "Trajectory Points:  30394\n",
      "Trajectory Points:  27315\n",
      "Trajectory Points:  11664\n",
      "Trajectory Points:  11796\n",
      "Trajectory Points:  109382\n",
      "Trajectory Points:  13840\n",
      "Trajectory Points:  16660\n",
      "Trajectory Points:  34316\n",
      "Trajectory Points:  28228\n",
      "Trajectory Points:  12619\n",
      "Trajectory Points:  28379\n",
      "Trajectory Points:  17222\n",
      "Trajectory Points:  13632\n",
      "Trajectory Points:  13264\n",
      "Trajectory Points:  10816\n"
     ]
    }
   ],
   "source": [
    "save_dir = os.path.join(\"__data__\", \"Geolife Trajectories Filtered\")\n",
    "os.makedirs(save_dir, exist_ok=True)\n",
    "\n",
    "name = 0\n",
    "for dsi in range(len(ds)):\n",
    "    dkey = ds.keys[dsi]\n",
    "    df = resample_df(ds(dsi))\n",
    "    if df is None: continue\n",
    "    csv_path = os.path.join(save_dir, f'{dkey}.csv')\n",
    "    name+=1\n",
    "    df.to_csv(csv_path, index=False)\n"
   ]
  },
  {
   "cell_type": "markdown",
   "metadata": {},
   "source": [
    "# Dimension Correction"
   ]
  },
  {
   "cell_type": "code",
   "execution_count": 11,
   "metadata": {},
   "outputs": [
    {
     "data": {
      "text/plain": [
       "913"
      ]
     },
     "execution_count": 11,
     "metadata": {},
     "output_type": "execute_result"
    }
   ],
   "source": [
    "\n",
    "class RTrajectorySet:\n",
    "\n",
    "    def __init__(self, basedir, ) -> None:\n",
    "        self.basedir = basedir\n",
    "        self._make()\n",
    "\n",
    "    def _make(self):\n",
    "        #files = [os.path.join(self.basedir, i) for i in os.listdir(self.basedir) if i.endswith('.csv')]\n",
    "        self.data = {i[:-4]:None for i in os.listdir(self.basedir) if i.endswith('.csv')}\n",
    "        self.keys = list(self.data.keys())\n",
    "        self.count = len(self.keys)\n",
    "\n",
    "    def __call__(self, key_or_index):\n",
    "        if not isinstance(key_or_index, str): key_or_index = self.keys [int(key_or_index)]\n",
    "        res = self.data[key_or_index]\n",
    "        if res is None: \n",
    "            self.data[key_or_index] =  self._make_csvdf(f'{key_or_index}.csv')\n",
    "            res = self.data[key_or_index]\n",
    "        return res\n",
    "                                                                                 \n",
    "    def __len__(self): return self.count\n",
    "\n",
    "    def _make_csvdf(self, csv): \n",
    "        return pd.read_csv(os.path.join(self.basedir, csv), keep_date_col=False, parse_dates=['dt'])\n",
    "    \n",
    "    def numpy(self, key_or_index, interval=1, resize_xy=None, decimals=None, dtype=None):\n",
    "        df = self(key_or_index)\n",
    "        i = np.arange(0, len(df), interval)\n",
    "        x, y = df.x.to_numpy()[i], df.y.to_numpy()[i]\n",
    "        if resize_xy is not None:\n",
    "            remapx = Remap(Input_Range=(xl, xh), Output_Range=resize_xy[0])\n",
    "            remapy = Remap(Input_Range=(yl, yh), Output_Range=resize_xy[1])\n",
    "            x,y = remapx(x), remapy(y)\n",
    "        if decimals is not None: x, y = np.round(x, decimals=decimals), np.round(y, decimals=decimals)\n",
    "        if dtype is not None: x, y = x.astype(dtype), y.astype(dtype)\n",
    "        return x, y\n",
    "\n",
    "\n",
    "ds = RTrajectorySet(basedir=os.path.join(\"__data__\", \"Geolife Trajectories Filtered\"))\n",
    "len(ds)"
   ]
  },
  {
   "cell_type": "markdown",
   "metadata": {},
   "source": [
    "### Convert to numpy format"
   ]
  },
  {
   "cell_type": "code",
   "execution_count": 12,
   "metadata": {},
   "outputs": [
    {
     "name": "stderr",
     "output_type": "stream",
     "text": [
      "100%|██████████| 913/913 [00:40<00:00, 22.68it/s]\n"
     ]
    }
   ],
   "source": [
    "save_dir = os.path.join(\"__data__\", \"Geolife Trajectories Corrected\")\n",
    "os.makedirs(save_dir, exist_ok=True)\n",
    "\n",
    "for key in tqdm(ds.keys):\n",
    "    x,y = ds.numpy(key, interval=sample_interval, resize_xy=None, decimals=6, dtype=np.float32)\n",
    "    xy = np.stack((x,y)).T\n",
    "    np.save(os.path.join(save_dir, f'{key}.npy'), xy)\n",
    "    "
   ]
  },
  {
   "cell_type": "markdown",
   "metadata": {},
   "source": [
    "# View as Numpy Data"
   ]
  },
  {
   "cell_type": "code",
   "execution_count": 4,
   "metadata": {},
   "outputs": [
    {
     "data": {
      "text/plain": [
       "698"
      ]
     },
     "execution_count": 4,
     "metadata": {},
     "output_type": "execute_result"
    }
   ],
   "source": [
    "\n",
    "class NTrajectorySet:\n",
    "\n",
    "    def __init__(self, basedir, ) -> None:\n",
    "        self.basedir = basedir\n",
    "        self._make()\n",
    "\n",
    "    def _make(self):\n",
    "        #files = [os.path.join(self.basedir, i) for i in os.listdir(self.basedir) if i.endswith('.csv')]\n",
    "        self.data = {i[:-4]:None for i in os.listdir(self.basedir) if i.endswith('.npy')}\n",
    "        self.keys = list(self.data.keys())\n",
    "        self.count = len(self.keys)\n",
    "\n",
    "    def __call__(self, key_or_index):\n",
    "        if not isinstance(key_or_index, str): key_or_index = self.keys [int(key_or_index)]\n",
    "        res = self.data[key_or_index]\n",
    "        if res is None: \n",
    "            self.data[key_or_index] =  self._make_npy(f'{key_or_index}.npy')\n",
    "            res = self.data[key_or_index]\n",
    "        return res, key_or_index\n",
    "                                                                                 \n",
    "    def __len__(self): return self.count\n",
    "\n",
    "    def _make_npy(self, npy): \n",
    "        return np.load(os.path.join(self.basedir, npy))\n",
    "\n",
    "\n",
    "ds = NTrajectorySet(basedir=os.path.join(\"__data__\", \"Geolife Trajectories Corrected\"))\n",
    "len(ds)"
   ]
  },
  {
   "cell_type": "markdown",
   "metadata": {},
   "source": [
    "remove oob"
   ]
  },
  {
   "cell_type": "code",
   "execution_count": 14,
   "metadata": {},
   "outputs": [
    {
     "name": "stdout",
     "output_type": "stream",
     "text": [
      "remove 215 of 913\n",
      " ['000_170', '001_14', '001_25', '001_26', '001_3', '001_34', '001_35', '001_63', '003_175', '003_321', '003_67', '006_15', '007_15', '007_22', '007_26', '007_38', '007_4', '007_49', '008_33', '008_8', '010_141', '010_149', '010_155', '010_158', '012_37', '014_134', '014_140', '014_142', '014_155', '014_198', '014_243', '014_42', '014_51', '016_11', '017_126', '017_132', '017_144', '017_150', '017_254', '017_265', '017_390', '018_18', '022_122', '025_493', '030_117', '030_120', '030_121', '030_91', '034_108', '034_120', '034_160', '035_15', '035_17', '035_32', '035_33', '035_39', '035_60', '036_48', '037_114', '037_120', '037_36', '037_56', '037_60', '037_61', '037_63', '037_66', '037_73', '037_79', '038_23', '041_130', '041_15', '041_151', '041_159', '041_26', '041_293', '041_318', '041_319', '041_321', '041_370', '041_388', '041_407', '041_413', '041_415', '041_503', '041_513', '041_537', '041_543', '041_550', '042_102', '042_108', '042_110', '042_113', '042_114', '042_116', '042_117', '042_124', '042_128', '042_129', '042_133', '042_136', '042_139', '042_142', '042_146', '042_148', '042_149', '042_71', '042_82', '042_88', '042_89', '042_90', '045_0', '050_12', '050_43', '050_44', '052_89', '056_30', '062_146', '062_151', '062_188', '062_217', '062_287', '065_54', '065_92', '066_0', '066_11', '066_5', '066_8', '066_9', '067_118', '067_16', '067_61', '068_186', '068_273', '068_30', '068_31', '068_326', '068_389', '068_78', '078_52', '082_17', '084_113', '084_121', '084_132', '084_137', '084_141', '084_17', '084_203', '085_102', '085_200', '085_38', '085_89', '092_133', '095_11', '096_12', '096_54', '096_58', '096_83', '096_99', '104_112', '112_171', '115_66', '119_21', '126_196', '126_202', '126_211', '126_251', '126_43', '126_63', '128_1115', '128_131', '131_16', '140_226', '140_227', '140_361', '141_10', '142_54', '148_2', '153_1028', '153_1079', '153_1314', '153_1387', '153_1389', '153_1417', '153_1428', '153_1438', '153_1484', '153_1564', '153_1743', '153_1865', '153_1869', '153_1958', '153_262', '153_328', '153_404', '153_981', '153_982', '163_112', '163_246', '163_247', '163_256', '163_336', '163_347', '163_349', '163_352', '163_363', '163_367', '163_368', '163_541', '163_667', '163_677', '167_124', '167_325', '167_339', '167_87', '179_66'] \n"
     ]
    }
   ],
   "source": [
    "to_remove = []\n",
    "for k in ds.keys:\n",
    "    xy, key=ds(k)\n",
    "    x,y = xy[:,0], xy[:,1]\n",
    "    x_ = np.where((x<xl) | (x>xh))[0]\n",
    "    y_ = np.where((y<yl) | (y>yh))[0]\n",
    "\n",
    "    extra = (len(x_)>0 or len(y_)>0)\n",
    "    if extra: to_remove.append(k)\n",
    "\n",
    "print(f'remove {len(to_remove)} of {len(ds)}\\n {to_remove} ')"
   ]
  },
  {
   "cell_type": "markdown",
   "metadata": {},
   "source": [
    "remove the trajectories that lie outside the selected region"
   ]
  },
  {
   "cell_type": "code",
   "execution_count": 15,
   "metadata": {},
   "outputs": [
    {
     "name": "stdout",
     "output_type": "stream",
     "text": [
      "Removed __data__\\Geolife Trajectories Corrected\\000_170.npy\n",
      "Removed __data__\\Geolife Trajectories Corrected\\001_14.npy\n",
      "Removed __data__\\Geolife Trajectories Corrected\\001_25.npy\n",
      "Removed __data__\\Geolife Trajectories Corrected\\001_26.npy\n",
      "Removed __data__\\Geolife Trajectories Corrected\\001_3.npy\n",
      "Removed __data__\\Geolife Trajectories Corrected\\001_34.npy\n",
      "Removed __data__\\Geolife Trajectories Corrected\\001_35.npy\n",
      "Removed __data__\\Geolife Trajectories Corrected\\001_63.npy\n",
      "Removed __data__\\Geolife Trajectories Corrected\\003_175.npy\n",
      "Removed __data__\\Geolife Trajectories Corrected\\003_321.npy\n",
      "Removed __data__\\Geolife Trajectories Corrected\\003_67.npy\n",
      "Removed __data__\\Geolife Trajectories Corrected\\006_15.npy\n",
      "Removed __data__\\Geolife Trajectories Corrected\\007_15.npy\n",
      "Removed __data__\\Geolife Trajectories Corrected\\007_22.npy\n",
      "Removed __data__\\Geolife Trajectories Corrected\\007_26.npy\n",
      "Removed __data__\\Geolife Trajectories Corrected\\007_38.npy\n",
      "Removed __data__\\Geolife Trajectories Corrected\\007_4.npy\n",
      "Removed __data__\\Geolife Trajectories Corrected\\007_49.npy\n",
      "Removed __data__\\Geolife Trajectories Corrected\\008_33.npy\n",
      "Removed __data__\\Geolife Trajectories Corrected\\008_8.npy\n",
      "Removed __data__\\Geolife Trajectories Corrected\\010_141.npy\n",
      "Removed __data__\\Geolife Trajectories Corrected\\010_149.npy\n",
      "Removed __data__\\Geolife Trajectories Corrected\\010_155.npy\n",
      "Removed __data__\\Geolife Trajectories Corrected\\010_158.npy\n",
      "Removed __data__\\Geolife Trajectories Corrected\\012_37.npy\n",
      "Removed __data__\\Geolife Trajectories Corrected\\014_134.npy\n",
      "Removed __data__\\Geolife Trajectories Corrected\\014_140.npy\n",
      "Removed __data__\\Geolife Trajectories Corrected\\014_142.npy\n",
      "Removed __data__\\Geolife Trajectories Corrected\\014_155.npy\n",
      "Removed __data__\\Geolife Trajectories Corrected\\014_198.npy\n",
      "Removed __data__\\Geolife Trajectories Corrected\\014_243.npy\n",
      "Removed __data__\\Geolife Trajectories Corrected\\014_42.npy\n",
      "Removed __data__\\Geolife Trajectories Corrected\\014_51.npy\n",
      "Removed __data__\\Geolife Trajectories Corrected\\016_11.npy\n",
      "Removed __data__\\Geolife Trajectories Corrected\\017_126.npy\n",
      "Removed __data__\\Geolife Trajectories Corrected\\017_132.npy\n",
      "Removed __data__\\Geolife Trajectories Corrected\\017_144.npy\n",
      "Removed __data__\\Geolife Trajectories Corrected\\017_150.npy\n",
      "Removed __data__\\Geolife Trajectories Corrected\\017_254.npy\n",
      "Removed __data__\\Geolife Trajectories Corrected\\017_265.npy\n",
      "Removed __data__\\Geolife Trajectories Corrected\\017_390.npy\n",
      "Removed __data__\\Geolife Trajectories Corrected\\018_18.npy\n",
      "Removed __data__\\Geolife Trajectories Corrected\\022_122.npy\n",
      "Removed __data__\\Geolife Trajectories Corrected\\025_493.npy\n",
      "Removed __data__\\Geolife Trajectories Corrected\\030_117.npy\n",
      "Removed __data__\\Geolife Trajectories Corrected\\030_120.npy\n",
      "Removed __data__\\Geolife Trajectories Corrected\\030_121.npy\n",
      "Removed __data__\\Geolife Trajectories Corrected\\030_91.npy\n",
      "Removed __data__\\Geolife Trajectories Corrected\\034_108.npy\n",
      "Removed __data__\\Geolife Trajectories Corrected\\034_120.npy\n",
      "Removed __data__\\Geolife Trajectories Corrected\\034_160.npy\n",
      "Removed __data__\\Geolife Trajectories Corrected\\035_15.npy\n",
      "Removed __data__\\Geolife Trajectories Corrected\\035_17.npy\n",
      "Removed __data__\\Geolife Trajectories Corrected\\035_32.npy\n",
      "Removed __data__\\Geolife Trajectories Corrected\\035_33.npy\n",
      "Removed __data__\\Geolife Trajectories Corrected\\035_39.npy\n",
      "Removed __data__\\Geolife Trajectories Corrected\\035_60.npy\n",
      "Removed __data__\\Geolife Trajectories Corrected\\036_48.npy\n",
      "Removed __data__\\Geolife Trajectories Corrected\\037_114.npy\n",
      "Removed __data__\\Geolife Trajectories Corrected\\037_120.npy\n",
      "Removed __data__\\Geolife Trajectories Corrected\\037_36.npy\n",
      "Removed __data__\\Geolife Trajectories Corrected\\037_56.npy\n",
      "Removed __data__\\Geolife Trajectories Corrected\\037_60.npy\n",
      "Removed __data__\\Geolife Trajectories Corrected\\037_61.npy\n",
      "Removed __data__\\Geolife Trajectories Corrected\\037_63.npy\n",
      "Removed __data__\\Geolife Trajectories Corrected\\037_66.npy\n",
      "Removed __data__\\Geolife Trajectories Corrected\\037_73.npy\n",
      "Removed __data__\\Geolife Trajectories Corrected\\037_79.npy\n",
      "Removed __data__\\Geolife Trajectories Corrected\\038_23.npy\n",
      "Removed __data__\\Geolife Trajectories Corrected\\041_130.npy\n",
      "Removed __data__\\Geolife Trajectories Corrected\\041_15.npy\n",
      "Removed __data__\\Geolife Trajectories Corrected\\041_151.npy\n",
      "Removed __data__\\Geolife Trajectories Corrected\\041_159.npy\n",
      "Removed __data__\\Geolife Trajectories Corrected\\041_26.npy\n",
      "Removed __data__\\Geolife Trajectories Corrected\\041_293.npy\n",
      "Removed __data__\\Geolife Trajectories Corrected\\041_318.npy\n",
      "Removed __data__\\Geolife Trajectories Corrected\\041_319.npy\n",
      "Removed __data__\\Geolife Trajectories Corrected\\041_321.npy\n",
      "Removed __data__\\Geolife Trajectories Corrected\\041_370.npy\n",
      "Removed __data__\\Geolife Trajectories Corrected\\041_388.npy\n",
      "Removed __data__\\Geolife Trajectories Corrected\\041_407.npy\n",
      "Removed __data__\\Geolife Trajectories Corrected\\041_413.npy\n",
      "Removed __data__\\Geolife Trajectories Corrected\\041_415.npy\n",
      "Removed __data__\\Geolife Trajectories Corrected\\041_503.npy\n",
      "Removed __data__\\Geolife Trajectories Corrected\\041_513.npy\n",
      "Removed __data__\\Geolife Trajectories Corrected\\041_537.npy\n",
      "Removed __data__\\Geolife Trajectories Corrected\\041_543.npy\n",
      "Removed __data__\\Geolife Trajectories Corrected\\041_550.npy\n",
      "Removed __data__\\Geolife Trajectories Corrected\\042_102.npy\n",
      "Removed __data__\\Geolife Trajectories Corrected\\042_108.npy\n",
      "Removed __data__\\Geolife Trajectories Corrected\\042_110.npy\n",
      "Removed __data__\\Geolife Trajectories Corrected\\042_113.npy\n",
      "Removed __data__\\Geolife Trajectories Corrected\\042_114.npy\n",
      "Removed __data__\\Geolife Trajectories Corrected\\042_116.npy\n",
      "Removed __data__\\Geolife Trajectories Corrected\\042_117.npy\n",
      "Removed __data__\\Geolife Trajectories Corrected\\042_124.npy\n",
      "Removed __data__\\Geolife Trajectories Corrected\\042_128.npy\n",
      "Removed __data__\\Geolife Trajectories Corrected\\042_129.npy\n",
      "Removed __data__\\Geolife Trajectories Corrected\\042_133.npy\n",
      "Removed __data__\\Geolife Trajectories Corrected\\042_136.npy\n",
      "Removed __data__\\Geolife Trajectories Corrected\\042_139.npy\n",
      "Removed __data__\\Geolife Trajectories Corrected\\042_142.npy\n",
      "Removed __data__\\Geolife Trajectories Corrected\\042_146.npy\n",
      "Removed __data__\\Geolife Trajectories Corrected\\042_148.npy\n",
      "Removed __data__\\Geolife Trajectories Corrected\\042_149.npy\n",
      "Removed __data__\\Geolife Trajectories Corrected\\042_71.npy\n",
      "Removed __data__\\Geolife Trajectories Corrected\\042_82.npy\n",
      "Removed __data__\\Geolife Trajectories Corrected\\042_88.npy\n",
      "Removed __data__\\Geolife Trajectories Corrected\\042_89.npy\n",
      "Removed __data__\\Geolife Trajectories Corrected\\042_90.npy\n",
      "Removed __data__\\Geolife Trajectories Corrected\\045_0.npy\n",
      "Removed __data__\\Geolife Trajectories Corrected\\050_12.npy\n",
      "Removed __data__\\Geolife Trajectories Corrected\\050_43.npy\n",
      "Removed __data__\\Geolife Trajectories Corrected\\050_44.npy\n",
      "Removed __data__\\Geolife Trajectories Corrected\\052_89.npy\n",
      "Removed __data__\\Geolife Trajectories Corrected\\056_30.npy\n",
      "Removed __data__\\Geolife Trajectories Corrected\\062_146.npy\n",
      "Removed __data__\\Geolife Trajectories Corrected\\062_151.npy\n",
      "Removed __data__\\Geolife Trajectories Corrected\\062_188.npy\n",
      "Removed __data__\\Geolife Trajectories Corrected\\062_217.npy\n",
      "Removed __data__\\Geolife Trajectories Corrected\\062_287.npy\n",
      "Removed __data__\\Geolife Trajectories Corrected\\065_54.npy\n",
      "Removed __data__\\Geolife Trajectories Corrected\\065_92.npy\n",
      "Removed __data__\\Geolife Trajectories Corrected\\066_0.npy\n",
      "Removed __data__\\Geolife Trajectories Corrected\\066_11.npy\n",
      "Removed __data__\\Geolife Trajectories Corrected\\066_5.npy\n",
      "Removed __data__\\Geolife Trajectories Corrected\\066_8.npy\n",
      "Removed __data__\\Geolife Trajectories Corrected\\066_9.npy\n",
      "Removed __data__\\Geolife Trajectories Corrected\\067_118.npy\n",
      "Removed __data__\\Geolife Trajectories Corrected\\067_16.npy\n",
      "Removed __data__\\Geolife Trajectories Corrected\\067_61.npy\n",
      "Removed __data__\\Geolife Trajectories Corrected\\068_186.npy\n",
      "Removed __data__\\Geolife Trajectories Corrected\\068_273.npy\n",
      "Removed __data__\\Geolife Trajectories Corrected\\068_30.npy\n",
      "Removed __data__\\Geolife Trajectories Corrected\\068_31.npy\n",
      "Removed __data__\\Geolife Trajectories Corrected\\068_326.npy\n",
      "Removed __data__\\Geolife Trajectories Corrected\\068_389.npy\n",
      "Removed __data__\\Geolife Trajectories Corrected\\068_78.npy\n",
      "Removed __data__\\Geolife Trajectories Corrected\\078_52.npy\n",
      "Removed __data__\\Geolife Trajectories Corrected\\082_17.npy\n",
      "Removed __data__\\Geolife Trajectories Corrected\\084_113.npy\n",
      "Removed __data__\\Geolife Trajectories Corrected\\084_121.npy\n",
      "Removed __data__\\Geolife Trajectories Corrected\\084_132.npy\n",
      "Removed __data__\\Geolife Trajectories Corrected\\084_137.npy\n",
      "Removed __data__\\Geolife Trajectories Corrected\\084_141.npy\n",
      "Removed __data__\\Geolife Trajectories Corrected\\084_17.npy\n",
      "Removed __data__\\Geolife Trajectories Corrected\\084_203.npy\n",
      "Removed __data__\\Geolife Trajectories Corrected\\085_102.npy\n",
      "Removed __data__\\Geolife Trajectories Corrected\\085_200.npy\n",
      "Removed __data__\\Geolife Trajectories Corrected\\085_38.npy\n",
      "Removed __data__\\Geolife Trajectories Corrected\\085_89.npy\n",
      "Removed __data__\\Geolife Trajectories Corrected\\092_133.npy\n",
      "Removed __data__\\Geolife Trajectories Corrected\\095_11.npy\n",
      "Removed __data__\\Geolife Trajectories Corrected\\096_12.npy\n",
      "Removed __data__\\Geolife Trajectories Corrected\\096_54.npy\n",
      "Removed __data__\\Geolife Trajectories Corrected\\096_58.npy\n",
      "Removed __data__\\Geolife Trajectories Corrected\\096_83.npy\n",
      "Removed __data__\\Geolife Trajectories Corrected\\096_99.npy\n",
      "Removed __data__\\Geolife Trajectories Corrected\\104_112.npy\n",
      "Removed __data__\\Geolife Trajectories Corrected\\112_171.npy\n",
      "Removed __data__\\Geolife Trajectories Corrected\\115_66.npy\n",
      "Removed __data__\\Geolife Trajectories Corrected\\119_21.npy\n",
      "Removed __data__\\Geolife Trajectories Corrected\\126_196.npy\n",
      "Removed __data__\\Geolife Trajectories Corrected\\126_202.npy\n",
      "Removed __data__\\Geolife Trajectories Corrected\\126_211.npy\n",
      "Removed __data__\\Geolife Trajectories Corrected\\126_251.npy\n",
      "Removed __data__\\Geolife Trajectories Corrected\\126_43.npy\n",
      "Removed __data__\\Geolife Trajectories Corrected\\126_63.npy\n",
      "Removed __data__\\Geolife Trajectories Corrected\\128_1115.npy\n",
      "Removed __data__\\Geolife Trajectories Corrected\\128_131.npy\n",
      "Removed __data__\\Geolife Trajectories Corrected\\131_16.npy\n",
      "Removed __data__\\Geolife Trajectories Corrected\\140_226.npy\n",
      "Removed __data__\\Geolife Trajectories Corrected\\140_227.npy\n",
      "Removed __data__\\Geolife Trajectories Corrected\\140_361.npy\n",
      "Removed __data__\\Geolife Trajectories Corrected\\141_10.npy\n",
      "Removed __data__\\Geolife Trajectories Corrected\\142_54.npy\n",
      "Removed __data__\\Geolife Trajectories Corrected\\148_2.npy\n",
      "Removed __data__\\Geolife Trajectories Corrected\\153_1028.npy\n",
      "Removed __data__\\Geolife Trajectories Corrected\\153_1079.npy\n",
      "Removed __data__\\Geolife Trajectories Corrected\\153_1314.npy\n",
      "Removed __data__\\Geolife Trajectories Corrected\\153_1387.npy\n",
      "Removed __data__\\Geolife Trajectories Corrected\\153_1389.npy\n",
      "Removed __data__\\Geolife Trajectories Corrected\\153_1417.npy\n",
      "Removed __data__\\Geolife Trajectories Corrected\\153_1428.npy\n",
      "Removed __data__\\Geolife Trajectories Corrected\\153_1438.npy\n",
      "Removed __data__\\Geolife Trajectories Corrected\\153_1484.npy\n",
      "Removed __data__\\Geolife Trajectories Corrected\\153_1564.npy\n",
      "Removed __data__\\Geolife Trajectories Corrected\\153_1743.npy\n",
      "Removed __data__\\Geolife Trajectories Corrected\\153_1865.npy\n",
      "Removed __data__\\Geolife Trajectories Corrected\\153_1869.npy\n",
      "Removed __data__\\Geolife Trajectories Corrected\\153_1958.npy\n",
      "Removed __data__\\Geolife Trajectories Corrected\\153_262.npy\n",
      "Removed __data__\\Geolife Trajectories Corrected\\153_328.npy\n",
      "Removed __data__\\Geolife Trajectories Corrected\\153_404.npy\n",
      "Removed __data__\\Geolife Trajectories Corrected\\153_981.npy\n",
      "Removed __data__\\Geolife Trajectories Corrected\\153_982.npy\n",
      "Removed __data__\\Geolife Trajectories Corrected\\163_112.npy\n",
      "Removed __data__\\Geolife Trajectories Corrected\\163_246.npy\n",
      "Removed __data__\\Geolife Trajectories Corrected\\163_247.npy\n",
      "Removed __data__\\Geolife Trajectories Corrected\\163_256.npy\n",
      "Removed __data__\\Geolife Trajectories Corrected\\163_336.npy\n",
      "Removed __data__\\Geolife Trajectories Corrected\\163_347.npy\n",
      "Removed __data__\\Geolife Trajectories Corrected\\163_349.npy\n",
      "Removed __data__\\Geolife Trajectories Corrected\\163_352.npy\n",
      "Removed __data__\\Geolife Trajectories Corrected\\163_363.npy\n",
      "Removed __data__\\Geolife Trajectories Corrected\\163_367.npy\n",
      "Removed __data__\\Geolife Trajectories Corrected\\163_368.npy\n",
      "Removed __data__\\Geolife Trajectories Corrected\\163_541.npy\n",
      "Removed __data__\\Geolife Trajectories Corrected\\163_667.npy\n",
      "Removed __data__\\Geolife Trajectories Corrected\\163_677.npy\n",
      "Removed __data__\\Geolife Trajectories Corrected\\167_124.npy\n",
      "Removed __data__\\Geolife Trajectories Corrected\\167_325.npy\n",
      "Removed __data__\\Geolife Trajectories Corrected\\167_339.npy\n",
      "Removed __data__\\Geolife Trajectories Corrected\\167_87.npy\n",
      "Removed __data__\\Geolife Trajectories Corrected\\179_66.npy\n"
     ]
    }
   ],
   "source": [
    "for f in to_remove: \n",
    "    p= os.path.join(\"__data__\", \"Geolife Trajectories Corrected\", f'{f}.npy')\n",
    "    os.remove(p)\n",
    "    print(f'Removed {p}')"
   ]
  },
  {
   "cell_type": "markdown",
   "metadata": {},
   "source": [
    "reload"
   ]
  },
  {
   "cell_type": "code",
   "execution_count": 5,
   "metadata": {},
   "outputs": [
    {
     "data": {
      "text/plain": [
       "698"
      ]
     },
     "execution_count": 5,
     "metadata": {},
     "output_type": "execute_result"
    }
   ],
   "source": [
    "ds = NTrajectorySet(basedir=os.path.join(\"__data__\", \"Geolife Trajectories Corrected\"))\n",
    "len(ds)"
   ]
  },
  {
   "cell_type": "markdown",
   "metadata": {},
   "source": [
    "total duration"
   ]
  },
  {
   "cell_type": "code",
   "execution_count": 24,
   "metadata": {},
   "outputs": [
    {
     "name": "stdout",
     "output_type": "stream",
     "text": [
      "duration=2841541 slots : @sample_interval=5 is duration_seconds=14207705, duration_hours=3946.5847222222224\n",
      "164 days 10:35:05, slots=2841541\n"
     ]
    }
   ],
   "source": [
    "duration = 0\n",
    "slots = 0\n",
    "for k,trajectory in ds.data.items():\n",
    "    duration+=ds(k)[0].shape[0]\n",
    "    slots+=ds(k)[0].shape[0]-48\n",
    "duration=slots\n",
    "duration_seconds = sample_interval*duration\n",
    "duration_hours = duration_seconds/3600\n",
    "time_delta = pd.Timedelta(seconds=duration_seconds)\n",
    "print(f'{duration=} slots : @{sample_interval=} is {duration_seconds=}, {duration_hours=}\\n{time_delta}, {slots=}')"
   ]
  },
  {
   "cell_type": "code",
   "execution_count": 22,
   "metadata": {},
   "outputs": [
    {
     "data": {
      "text/plain": [
       "59896.770833333336"
      ]
     },
     "execution_count": 22,
     "metadata": {},
     "output_type": "execute_result"
    }
   ],
   "source": [
    "2841541/48"
   ]
  },
  {
   "cell_type": "markdown",
   "metadata": {},
   "source": [
    "view"
   ]
  },
  {
   "cell_type": "code",
   "execution_count": 18,
   "metadata": {},
   "outputs": [
    {
     "data": {
      "image/png": "[encoded data removed]",
      "text/plain": [
       "<Figure size 640x480 with 1 Axes>"
      ]
     },
     "metadata": {},
     "output_type": "display_data"
    }
   ],
   "source": [
    "import matplotlib.pyplot as plt\n",
    "\n",
    "plt.figure()\n",
    "plt.vlines(xl, yl, yh)\n",
    "plt.vlines(xh, yl, yh)\n",
    "plt.hlines(yl, xl, xh)\n",
    "plt.hlines(yh, xl, xh)\n",
    "\n",
    "for k in ds.keys:\n",
    "    xy, key=ds(k)\n",
    "    \n",
    "    plt.plot(xy[:,0], xy[:,1], linewidth=0.5,  label=f'{k}')\n",
    "\n",
    "plt.show()"
   ]
  },
  {
   "cell_type": "markdown",
   "metadata": {},
   "source": [
    "# View Animated Trajectories"
   ]
  },
  {
   "cell_type": "code",
   "execution_count": 1,
   "metadata": {},
   "outputs": [],
   "source": [
    "import os\n",
    "from geolife.anim import view_trajectory"
   ]
  },
  {
   "cell_type": "code",
   "execution_count": 2,
   "metadata": {},
   "outputs": [],
   "source": [
    "# pip install ipympl\n",
    "%matplotlib ipympl"
   ]
  },
  {
   "cell_type": "code",
   "execution_count": 7,
   "metadata": {},
   "outputs": [
    {
     "name": "stdout",
     "output_type": "stream",
     "text": [
      "135_7 2436\n"
     ]
    },
    {
     "data": {
      "application/vnd.jupyter.widget-view+json": {
       "model_id": "e10ba4dc1274494288b45974ffc07a52",
       "version_major": 2,
       "version_minor": 0
      },
      "image/png": "[encoded data removed]",
      "text/html": [
       "\n",
       "            <div style=\"display: inline-block;\">\n",
       "                <div class=\"jupyter-widgets widget-label\" style=\"text-align: center;\">\n",
       "                    Figure\n",
       "                </div>\n",
       "                <img src='data:image/png;base64,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' width=640.0/>\n",
       "            </div>\n",
       "        "
      ],
      "text/plain": [
       "Canvas(toolbar=Toolbar(toolitems=[('Home', 'Reset original view', 'home', 'home'), ('Back', 'Back to previous …"
      ]
     },
     "metadata": {},
     "output_type": "display_data"
    }
   ],
   "source": [
    "view_trajectory(\n",
    "    basedir=os.path.join(\"__data__\", \"Geolife Trajectories Corrected\"),\n",
    "    keys='135_7', #<---- the numpy file name\n",
    "    frame_interval=10,\n",
    "    move_trail=15,\n",
    "    zoom=True,\n",
    ")"
   ]
  },
  {
   "cell_type": "markdown",
   "metadata": {},
   "source": [
    "# Done"
   ]
  }
 ],
 "metadata": {
  "kernelspec": {
   "display_name": "Python 3",
   "language": "python",
   "name": "python3"
  },
  "language_info": {
   "codemirror_mode": {
    "name": "ipython",
    "version": 3
   },
   "file_extension": ".py",
   "mimetype": "text/x-python",
   "name": "python",
   "nbconvert_exporter": "python",
   "pygments_lexer": "ipython3",
   "version": "3.11.4"
  }
 },
 "nbformat": 4,
 "nbformat_minor": 2
}
