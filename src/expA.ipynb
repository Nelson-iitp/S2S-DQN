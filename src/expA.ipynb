{
  "cells": [
    {
      "cell_type": "code",
      "execution_count": null,
      "metadata": {
        "id": "WA8ZARLI4xjS"
      },
      "outputs": [],
      "source": [
        "from google.colab import drive\n",
        "drive.mount('/content/drive')"
      ]
    },
    {
      "cell_type": "code",
      "execution_count": null,
      "metadata": {
        "id": "m2CyMoDn4xjY"
      },
      "outputs": [],
      "source": [
        "import sys\n",
        "sys.path.append('/content/drive/MyDrive/Colab Notebooks/S2SD')"
      ]
    },
    {
      "cell_type": "markdown",
      "metadata": {
        "id": "dqvQ2gES4xjZ"
      },
      "source": [
        "#### * Make Dataset"
      ]
    },
    {
      "cell_type": "code",
      "execution_count": 1,
      "metadata": {
        "id": "4hHmaiy_4xjZ"
      },
      "outputs": [
        {
          "name": "stdout",
          "output_type": "stream",
          "text": [
            "Create dataset @ __data__\\X3e1c_A.npy\n",
            "__data__\\X3e1c_A.npy: 600\n"
          ]
        }
      ],
      "source": [
        "import experiment\n",
        "experiment.ExpA( experiment.auto_device ).create_ds(n_apps=60, n_paths=10, app_seed=1206, path_seed=1990,)"
      ]
    },
    {
      "cell_type": "markdown",
      "metadata": {
        "id": "rsnWnHf84xjZ"
      },
      "source": [
        "# Experiment"
      ]
    },
    {
      "cell_type": "code",
      "execution_count": 2,
      "metadata": {
        "id": "6OL4Zz1L4xjZ"
      },
      "outputs": [
        {
          "data": {
            "text/plain": [
              "<experiment.ExpA at 0x2797faab010>"
            ]
          },
          "execution_count": 2,
          "metadata": {},
          "output_type": "execute_result"
        }
      ],
      "source": [
        "from experiment import ExpA as Exp\n",
        "exp = Exp( Exp.auto_device ).load_ds(split_ratio=0.9)\n",
        "exp"
      ]
    },
    {
      "cell_type": "markdown",
      "metadata": {
        "id": "Gh6xg7134xjZ"
      },
      "source": [
        "### Environments"
      ]
    },
    {
      "cell_type": "code",
      "execution_count": 3,
      "metadata": {
        "id": "Y7BvOYYb4xjZ"
      },
      "outputs": [],
      "source": [
        "tenv = exp.tEnv(seed=None, heed=None)\n",
        "venv = exp.vEnv(heed=None)\n",
        "venvs = exp.vEnvs(heeds=None)"
      ]
    },
    {
      "cell_type": "markdown",
      "metadata": {
        "id": "QczA26Km4xjZ"
      },
      "source": [
        "# Train"
      ]
    },
    {
      "cell_type": "markdown",
      "metadata": {
        "id": "xzioJN1O4xjZ"
      },
      "source": [
        "### Policy"
      ]
    },
    {
      "cell_type": "code",
      "execution_count": 4,
      "metadata": {
        "id": "N0dRwi7U4xjZ"
      },
      "outputs": [
        {
          "data": {
            "text/plain": [
              "1840516"
            ]
          },
          "execution_count": 4,
          "metadata": {},
          "output_type": "execute_result"
        }
      ],
      "source": [
        "pie = exp.pie()\n",
        "pie.Count()"
      ]
    },
    {
      "cell_type": "code",
      "execution_count": null,
      "metadata": {
        "id": "xDSvxrHj4xja"
      },
      "outputs": [],
      "source": [
        "pie.Show()"
      ]
    },
    {
      "cell_type": "markdown",
      "metadata": {
        "id": "8JipdJ6u4xja"
      },
      "source": [
        "### Training Loop"
      ]
    },
    {
      "cell_type": "code",
      "execution_count": 2,
      "metadata": {
        "id": "sjKYoZQ64xja"
      },
      "outputs": [
        {
          "data": {
            "text/plain": [
              "['pie_Huristic_Edge',\n",
              " 'pie_Huristic_Edge_Cloud',\n",
              " 'pie_Huristic_Edge_Cloud_Limited',\n",
              " 'pie_Huristic_Random',\n",
              " 'pie_Huristic_Random_Edge',\n",
              " 'pie_Huristic_Round_Robin_Edge',\n",
              " 'pie_Huristic_Round_Robin_Edge_Cloud',\n",
              " 'pie_Huristic_Zonal_Edge']"
            ]
          },
          "execution_count": 2,
          "metadata": {},
          "output_type": "execute_result"
        }
      ],
      "source": [
        "exp.list_Huristic()"
      ]
    },
    {
      "cell_type": "code",
      "execution_count": 5,
      "metadata": {
        "id": "bPYTpH8Y4xja"
      },
      "outputs": [
        {
          "name": "stdout",
          "output_type": "stream",
          "text": [
            "[*] Explored Min-Memory [1000] Steps, Memory Size is [1000]\n",
            " [Pre-Validation]\n",
            " => (MEAN) :: Return:-47.03623958333333, Steps:48.0\n",
            " => (SUM)  :: Return:-2822.1743749999996, Steps:2880.0\n",
            "Checkpoint @ /content/drive/MyDrive/Colab Notebooks/S2SD/__results__\\pre.pie\n",
            "\n"
          ]
        },
        {
          "name": "stderr",
          "output_type": "stream",
          "text": [
            "  1%|          | 5/500 [05:24<9:42:49, 70.65s/it]"
          ]
        },
        {
          "name": "stdout",
          "output_type": "stream",
          "text": [
            " [Validation]\n",
            " => (MEAN) :: Return:-15.567352083333335, Steps:48.0\n",
            " => (SUM)  :: Return:-934.0411250000001, Steps:2880.0\n"
          ]
        },
        {
          "name": "stderr",
          "output_type": "stream",
          "text": [
            "  2%|▏         | 10/500 [11:09<10:06:19, 74.24s/it]"
          ]
        },
        {
          "name": "stdout",
          "output_type": "stream",
          "text": [
            " [Validation]\n",
            " => (MEAN) :: Return:-14.329735416666669, Steps:48.0\n",
            " => (SUM)  :: Return:-859.7841250000001, Steps:2880.0\n"
          ]
        },
        {
          "name": "stderr",
          "output_type": "stream",
          "text": [
            "  3%|▎         | 13/500 [14:22<9:09:27, 67.69s/it] "
          ]
        }
      ],
      "source": [
        "_ = exp.train(\n",
        "    tenv,\n",
        "    venvs,\n",
        "    pie,\n",
        "    learning_rate=      1e-5,\n",
        "    lref=               0.05,\n",
        "    weight_decay=       0.0,\n",
        "    epochs =            500,\n",
        "    batch_size =        16,\n",
        "    learn_times =       50,\n",
        "    tuf =               5,\n",
        "    epsilon_range =     (1.0, 0.1),\n",
        "    explore_pies =      ['pie_Huristic_Random', 'pie_Huristic_Edge_Cloud', 'pie_Huristic_Round_Robin_Edge_Cloud' ],\n",
        "    explore_per_pie=    True,\n",
        "    min_memory_pies=     exp.list_Huristic(),\n",
        "    double =            False,\n",
        "    validation_interval = 0.01,\n",
        "    checkpoint_interval = 0.1,\n",
        "    gradient_clipping = 1.0,\n",
        "    save_at =           '/content/drive/MyDrive/Colab Notebooks/S2SD/__results__',\n",
        ")"
      ]
    },
    {
      "cell_type": "markdown",
      "metadata": {
        "id": "v-Xclxyp4xja"
      },
      "source": [
        "# Test"
      ]
    },
    {
      "cell_type": "code",
      "execution_count": null,
      "metadata": {
        "id": "N1ym_T6h4xja"
      },
      "outputs": [],
      "source": [
        "import s2sdqn\n",
        "import torch as tt\n",
        "import torch.nn as nn\n",
        "import os\n",
        "import numpy as np\n",
        "import matplotlib.pyplot as plt\n",
        "import s2sdqn.ktf as ktf"
      ]
    },
    {
      "cell_type": "markdown",
      "metadata": {
        "id": "xNa7nqMz4xja"
      },
      "source": [
        "### Policy"
      ]
    },
    {
      "cell_type": "code",
      "execution_count": null,
      "metadata": {
        "id": "PNbQ9F3e4xja"
      },
      "outputs": [],
      "source": [
        "pie = exp.pie()\n",
        "pie.Count()"
      ]
    },
    {
      "cell_type": "code",
      "execution_count": null,
      "metadata": {
        "id": "8v_N6vto4xja"
      },
      "outputs": [],
      "source": [
        "pie.Show()"
      ]
    },
    {
      "cell_type": "code",
      "execution_count": null,
      "metadata": {
        "id": "HbBwM7Qq4xjb"
      },
      "outputs": [],
      "source": [
        "load_name = 'final.pie'\n",
        "load_from = '/content/drive/MyDrive/Colab Notebooks/S2SD/__results__'\n",
        "\n",
        "pie.load(os.path.join(load_from, load_name))\n",
        "pie.eval()\n"
      ]
    },
    {
      "cell_type": "code",
      "execution_count": null,
      "metadata": {
        "id": "cd2ZQA6U4xjb"
      },
      "outputs": [],
      "source": [
        "results = s2sdqn.dqn.Eval.load_plot_training_result(os.path.join(load_from, 'results.npz'))"
      ]
    },
    {
      "cell_type": "markdown",
      "metadata": {
        "id": "8PwUTeuf4xjb"
      },
      "source": [
        "# Validation"
      ]
    },
    {
      "cell_type": "code",
      "execution_count": null,
      "metadata": {
        "id": "z46vBS3U4xjb"
      },
      "outputs": [],
      "source": [
        "envs = [venv]\n",
        "episodes=len(venv.frozen)"
      ]
    },
    {
      "cell_type": "code",
      "execution_count": null,
      "metadata": {
        "id": "S4HXN7HT4xjb"
      },
      "outputs": [],
      "source": [
        "envs =venvs\n",
        "episodes=1"
      ]
    },
    {
      "cell_type": "markdown",
      "metadata": {
        "id": "M0ra6xks4xjb"
      },
      "source": [
        "## DQN"
      ]
    },
    {
      "cell_type": "code",
      "execution_count": null,
      "metadata": {},
      "outputs": [],
      "source": [
        "pie.theta.do_store_attention(True)"
      ]
    },
    {
      "cell_type": "code",
      "execution_count": null,
      "metadata": {
        "id": "8vwKGEtb4xjb"
      },
      "outputs": [],
      "source": [
        "mean_return, mean_steps, sum_return, sum_steps, validate_acts = \\\n",
        "s2sdqn.dqn.Eval.validate_policy(\n",
        "    pie=pie,\n",
        "    envs=envs,\n",
        "    episodes=episodes,\n",
        "    episodic_verbose=0,\n",
        "    verbose_result=True\n",
        ")\n",
        "print(f\"\"\"\n",
        "{mean_return=}\n",
        "{mean_steps=}\n",
        "{sum_return=}\n",
        "{sum_steps=}\n",
        "{validate_acts=}\n",
        "\"\"\")\n",
        "v_dqn = validate_acts"
      ]
    },
    {
      "cell_type": "code",
      "execution_count": null,
      "metadata": {},
      "outputs": [],
      "source": [
        "ktf.Aview.view_mh_attention_encoders(\n",
        "    former=pie.theta,\n",
        "    batch_index=None,\n",
        "    **ktf.Aview.dca\n",
        ")\n",
        "ktf.Aview.view_attention_encoders(\n",
        "    former=pie.theta,\n",
        "    batch_index=None,\n",
        "    **ktf.Aview.dca\n",
        ")"
      ]
    },
    {
      "cell_type": "code",
      "execution_count": null,
      "metadata": {},
      "outputs": [],
      "source": [
        "ktf.Aview.view_mh_attention_decoder(\n",
        "    former=pie.theta,\n",
        "    cross=False,\n",
        "    batch_index=None,\n",
        "    **ktf.Aview.dca\n",
        ")\n",
        "ktf.Aview.view_attention_decoder(\n",
        "    former=pie.theta,\n",
        "    cross=False,\n",
        "    batch_index=None,\n",
        "    **ktf.Aview.dca\n",
        ")"
      ]
    },
    {
      "cell_type": "code",
      "execution_count": null,
      "metadata": {},
      "outputs": [],
      "source": [
        "ktf.Aview.view_mh_attention_decoder(\n",
        "    former=pie.theta,\n",
        "    cross=True,\n",
        "    batch_index=None,\n",
        "    **ktf.Aview.dca\n",
        ")\n",
        "ktf.Aview.view_attention_decoder(\n",
        "    former=pie.theta,\n",
        "    cross=True,\n",
        "    batch_index=None,\n",
        "    **ktf.Aview.dca\n",
        ")"
      ]
    },
    {
      "cell_type": "code",
      "execution_count": null,
      "metadata": {},
      "outputs": [],
      "source": [
        "pie.theta.do_store_attention(False)"
      ]
    },
    {
      "cell_type": "code",
      "execution_count": null,
      "metadata": {},
      "outputs": [],
      "source": []
    },
    {
      "cell_type": "markdown",
      "metadata": {
        "id": "hAfuHBRx4xjb"
      },
      "source": [
        "## Fixed"
      ]
    },
    {
      "cell_type": "markdown",
      "metadata": {
        "id": "zyZ6Tuuu4xjc"
      },
      "source": [
        "### Edge-0"
      ]
    },
    {
      "cell_type": "code",
      "execution_count": null,
      "metadata": {
        "id": "_Rf1dMVY4xjc"
      },
      "outputs": [],
      "source": [
        "mean_return, mean_steps, sum_return, sum_steps, validate_acts = \\\n",
        "s2sdqn.dqn.Eval.validate_policy(\n",
        "    pie=s2sdqn.pie.FixedPie(Aseq=[0 for _ in range(venv.T)]),\n",
        "    envs=envs,\n",
        "    episodes=episodes,\n",
        "    episodic_verbose=0,\n",
        "    verbose_result=True\n",
        ")\n",
        "print(f\"\"\"\n",
        "{mean_return=}\n",
        "{mean_steps=}\n",
        "{sum_return=}\n",
        "{sum_steps=}\n",
        "{validate_acts=}\n",
        "\"\"\")"
      ]
    },
    {
      "cell_type": "markdown",
      "metadata": {
        "id": "j5_DX9Ud4xjc"
      },
      "source": [
        "### Edge-1"
      ]
    },
    {
      "cell_type": "code",
      "execution_count": null,
      "metadata": {
        "id": "BMVIjF2F4xjc"
      },
      "outputs": [],
      "source": [
        "mean_return, mean_steps, sum_return, sum_steps, validate_acts = \\\n",
        "s2sdqn.dqn.Eval.validate_policy(\n",
        "    pie=s2sdqn.pie.FixedPie(Aseq=[1 for _ in range(venv.T)]),\n",
        "    envs=envs,\n",
        "    episodes=episodes,\n",
        "    episodic_verbose=0,\n",
        "    verbose_result=True\n",
        ")\n",
        "print(f\"\"\"\n",
        "{mean_return=}\n",
        "{mean_steps=}\n",
        "{sum_return=}\n",
        "{sum_steps=}\n",
        "{validate_acts=}\n",
        "\"\"\")"
      ]
    },
    {
      "cell_type": "markdown",
      "metadata": {
        "id": "B25EMRR74xjc"
      },
      "source": [
        "### Edge-2"
      ]
    },
    {
      "cell_type": "code",
      "execution_count": null,
      "metadata": {
        "id": "y_HPUQ6S4xjc"
      },
      "outputs": [],
      "source": [
        "mean_return, mean_steps, sum_return, sum_steps, validate_acts = \\\n",
        "s2sdqn.dqn.Eval.validate_policy(\n",
        "    pie=s2sdqn.pie.FixedPie(Aseq=[2 for _ in range(venv.T)]),\n",
        "    envs=envs,\n",
        "    episodes=episodes,\n",
        "    episodic_verbose=0,\n",
        "    verbose_result=True\n",
        ")\n",
        "print(f\"\"\"\n",
        "{mean_return=}\n",
        "{mean_steps=}\n",
        "{sum_return=}\n",
        "{sum_steps=}\n",
        "{validate_acts=}\n",
        "\"\"\")"
      ]
    },
    {
      "cell_type": "markdown",
      "metadata": {
        "id": "dayh7WVk4xjc"
      },
      "source": [
        "### Cloud"
      ]
    },
    {
      "cell_type": "code",
      "execution_count": null,
      "metadata": {
        "id": "dL7QsDHt4xjc"
      },
      "outputs": [],
      "source": [
        "mean_return, mean_steps, sum_return, sum_steps, validate_acts = \\\n",
        "s2sdqn.dqn.Eval.validate_policy(\n",
        "    pie=s2sdqn.pie.FixedPie(Aseq=[3 for _ in range(venv.T)]),\n",
        "    envs=envs,\n",
        "    episodes=episodes,\n",
        "    episodic_verbose=0,\n",
        "    verbose_result=True\n",
        ")\n",
        "print(f\"\"\"\n",
        "{mean_return=}\n",
        "{mean_steps=}\n",
        "{sum_return=}\n",
        "{sum_steps=}\n",
        "{validate_acts=}\n",
        "\"\"\")"
      ]
    },
    {
      "cell_type": "markdown",
      "metadata": {
        "id": "LzvagMvT4xjd"
      },
      "source": [
        "## Random"
      ]
    },
    {
      "cell_type": "markdown",
      "metadata": {
        "id": "HDPxri6G4xjd"
      },
      "source": [
        "### Full Random"
      ]
    },
    {
      "cell_type": "code",
      "execution_count": null,
      "metadata": {
        "id": "ZOL8ib5s4xjd"
      },
      "outputs": [],
      "source": [
        "mean_return, mean_steps, sum_return, sum_steps, validate_acts = \\\n",
        "s2sdqn.dqn.Eval.validate_policy(\n",
        "    pie=s2sdqn.pie.RandomPie(Alow=0, Ahigh=venv.A),\n",
        "    envs=envs,\n",
        "    episodes=episodes,\n",
        "    episodic_verbose=0,\n",
        "    verbose_result=True\n",
        ")\n",
        "print(f\"\"\"\n",
        "{mean_return=}\n",
        "{mean_steps=}\n",
        "{sum_return=}\n",
        "{sum_steps=}\n",
        "{validate_acts=}\n",
        "\"\"\")"
      ]
    },
    {
      "cell_type": "markdown",
      "metadata": {
        "id": "CQntvSCx4xjd"
      },
      "source": [
        "### Edge Random"
      ]
    },
    {
      "cell_type": "code",
      "execution_count": null,
      "metadata": {
        "id": "9gWFlMb-4xjd"
      },
      "outputs": [],
      "source": [
        "mean_return, mean_steps, sum_return, sum_steps, validate_acts = \\\n",
        "s2sdqn.dqn.Eval.validate_policy(\n",
        "    pie=s2sdqn.pie.RandomPie(Alow=0, Ahigh=venv.sim.E),\n",
        "    envs=envs,\n",
        "    episodes=episodes,\n",
        "    episodic_verbose=0,\n",
        "    verbose_result=True\n",
        ")\n",
        "print(f\"\"\"\n",
        "{mean_return=}\n",
        "{mean_steps=}\n",
        "{sum_return=}\n",
        "{sum_steps=}\n",
        "{validate_acts=}\n",
        "\"\"\")"
      ]
    },
    {
      "cell_type": "markdown",
      "metadata": {
        "id": "ZKc1yvA84xjd"
      },
      "source": [
        "## Hueristic"
      ]
    },
    {
      "cell_type": "code",
      "execution_count": null,
      "metadata": {
        "id": "XqyMidB34xjd"
      },
      "outputs": [],
      "source": [
        "exp.list_Huristic()"
      ]
    },
    {
      "cell_type": "markdown",
      "metadata": {
        "id": "3CTOENVX4xjd"
      },
      "source": [
        "### pie_Huristic_Edge"
      ]
    },
    {
      "cell_type": "code",
      "execution_count": null,
      "metadata": {
        "id": "jkwEwbrY4xje"
      },
      "outputs": [],
      "source": [
        "mean_return, mean_steps, sum_return, sum_steps, validate_acts = \\\n",
        "s2sdqn.dqn.Eval.validate_policy(\n",
        "    pie='pie_Huristic_Edge',\n",
        "    envs=envs,\n",
        "    episodes=episodes,\n",
        "    episodic_verbose=0,\n",
        "    verbose_result=True\n",
        ")\n",
        "print(f\"\"\"\n",
        "{mean_return=}\n",
        "{mean_steps=}\n",
        "{sum_return=}\n",
        "{sum_steps=}\n",
        "{validate_acts=}\n",
        "\"\"\")"
      ]
    },
    {
      "cell_type": "markdown",
      "metadata": {
        "id": "e_K2UO6j4xje"
      },
      "source": [
        "### pie_Huristic_Edge_Cloud"
      ]
    },
    {
      "cell_type": "code",
      "execution_count": null,
      "metadata": {
        "id": "T50wmR1l4xje"
      },
      "outputs": [],
      "source": [
        "mean_return, mean_steps, sum_return, sum_steps, validate_acts = \\\n",
        "s2sdqn.dqn.Eval.validate_policy(\n",
        "    pie='pie_Huristic_Edge_Cloud',\n",
        "    envs=envs,\n",
        "    episodes=episodes,\n",
        "    episodic_verbose=0,\n",
        "    verbose_result=True\n",
        ")\n",
        "print(f\"\"\"\n",
        "{mean_return=}\n",
        "{mean_steps=}\n",
        "{sum_return=}\n",
        "{sum_steps=}\n",
        "{validate_acts=}\n",
        "\"\"\")"
      ]
    },
    {
      "cell_type": "markdown",
      "metadata": {
        "id": "N1Ji18sx4xje"
      },
      "source": [
        "### pie_Huristic_Edge_Cloud_Limited"
      ]
    },
    {
      "cell_type": "code",
      "execution_count": null,
      "metadata": {
        "id": "qyArBC-q4xjf"
      },
      "outputs": [],
      "source": [
        "mean_return, mean_steps, sum_return, sum_steps, validate_acts = \\\n",
        "s2sdqn.dqn.Eval.validate_policy(\n",
        "    pie='pie_Huristic_Edge_Cloud_Limited',\n",
        "    envs=envs,\n",
        "    episodes=episodes,\n",
        "    episodic_verbose=0,\n",
        "    verbose_result=True\n",
        ")\n",
        "print(f\"\"\"\n",
        "{mean_return=}\n",
        "{mean_steps=}\n",
        "{sum_return=}\n",
        "{sum_steps=}\n",
        "{validate_acts=}\n",
        "\"\"\")"
      ]
    },
    {
      "cell_type": "markdown",
      "metadata": {
        "id": "bIsq5ttd4xjf"
      },
      "source": [
        "### pie_Huristic_Random"
      ]
    },
    {
      "cell_type": "code",
      "execution_count": null,
      "metadata": {
        "id": "Rp2c9VcR4xjf"
      },
      "outputs": [],
      "source": [
        "mean_return, mean_steps, sum_return, sum_steps, validate_acts = \\\n",
        "s2sdqn.dqn.Eval.validate_policy(\n",
        "    pie='pie_Huristic_Random',\n",
        "    envs=envs,\n",
        "    episodes=episodes,\n",
        "    episodic_verbose=0,\n",
        "    verbose_result=True\n",
        ")\n",
        "print(f\"\"\"\n",
        "{mean_return=}\n",
        "{mean_steps=}\n",
        "{sum_return=}\n",
        "{sum_steps=}\n",
        "{validate_acts=}\n",
        "\"\"\")"
      ]
    },
    {
      "cell_type": "markdown",
      "metadata": {
        "id": "eyjc0taT4xjf"
      },
      "source": [
        "### pie_Huristic_Random_Edge"
      ]
    },
    {
      "cell_type": "code",
      "execution_count": null,
      "metadata": {
        "id": "7ZqIxqOd4xjg"
      },
      "outputs": [],
      "source": [
        "mean_return, mean_steps, sum_return, sum_steps, validate_acts = \\\n",
        "s2sdqn.dqn.Eval.validate_policy(\n",
        "    pie='pie_Huristic_Random_Edge',\n",
        "    envs=envs,\n",
        "    episodes=episodes,\n",
        "    episodic_verbose=0,\n",
        "    verbose_result=True\n",
        ")\n",
        "print(f\"\"\"\n",
        "{mean_return=}\n",
        "{mean_steps=}\n",
        "{sum_return=}\n",
        "{sum_steps=}\n",
        "{validate_acts=}\n",
        "\"\"\")"
      ]
    },
    {
      "cell_type": "markdown",
      "metadata": {
        "id": "-ZtR0PLf4xjg"
      },
      "source": [
        "### pie_Huristic_Round_Robin_Edge"
      ]
    },
    {
      "cell_type": "code",
      "execution_count": null,
      "metadata": {
        "id": "T63csFJg4xjg"
      },
      "outputs": [],
      "source": [
        "mean_return, mean_steps, sum_return, sum_steps, validate_acts = \\\n",
        "s2sdqn.dqn.Eval.validate_policy(\n",
        "    pie='pie_Huristic_Round_Robin_Edge',\n",
        "    envs=envs,\n",
        "    episodes=episodes,\n",
        "    episodic_verbose=0,\n",
        "    verbose_result=True\n",
        ")\n",
        "print(f\"\"\"\n",
        "{mean_return=}\n",
        "{mean_steps=}\n",
        "{sum_return=}\n",
        "{sum_steps=}\n",
        "{validate_acts=}\n",
        "\"\"\")"
      ]
    },
    {
      "cell_type": "markdown",
      "metadata": {
        "id": "B_GjVGbK4xjg"
      },
      "source": [
        "### pie_Huristic_Round_Robin_Edge_Cloud"
      ]
    },
    {
      "cell_type": "code",
      "execution_count": null,
      "metadata": {
        "id": "9sb5_KSh4xjg"
      },
      "outputs": [],
      "source": [
        "mean_return, mean_steps, sum_return, sum_steps, validate_acts = \\\n",
        "s2sdqn.dqn.Eval.validate_policy(\n",
        "    pie='pie_Huristic_Round_Robin_Edge_Cloud',\n",
        "    envs=envs,\n",
        "    episodes=episodes,\n",
        "    episodic_verbose=0,\n",
        "    verbose_result=True\n",
        ")\n",
        "print(f\"\"\"\n",
        "{mean_return=}\n",
        "{mean_steps=}\n",
        "{sum_return=}\n",
        "{sum_steps=}\n",
        "{validate_acts=}\n",
        "\"\"\")"
      ]
    },
    {
      "cell_type": "markdown",
      "metadata": {
        "id": "4cF4vfk94xjg"
      },
      "source": [
        "### pie_Huristic_Zonal_Edge"
      ]
    },
    {
      "cell_type": "code",
      "execution_count": null,
      "metadata": {
        "id": "QeCAFuIy4xjg"
      },
      "outputs": [],
      "source": [
        "mean_return, mean_steps, sum_return, sum_steps, validate_acts = \\\n",
        "s2sdqn.dqn.Eval.validate_policy(\n",
        "    pie='pie_Huristic_Zonal_Edge',\n",
        "    envs=envs,\n",
        "    episodes=episodes,\n",
        "    episodic_verbose=0,\n",
        "    verbose_result=True\n",
        ")\n",
        "print(f\"\"\"\n",
        "{mean_return=}\n",
        "{mean_steps=}\n",
        "{sum_return=}\n",
        "{sum_steps=}\n",
        "{validate_acts=}\n",
        "\"\"\")"
      ]
    },
    {
      "cell_type": "markdown",
      "metadata": {
        "id": "HiOFLdvI4xjg"
      },
      "source": [
        "## Custom Action Sequence"
      ]
    },
    {
      "cell_type": "code",
      "execution_count": null,
      "metadata": {
        "id": "4LUo43o24xjh"
      },
      "outputs": [],
      "source": [
        "mean_return, mean_steps, sum_return, sum_steps, validate_acts = \\\n",
        "s2sdqn.dqn.Eval.validate_policy(\n",
        "    pie=s2sdqn.pie.FixedPie(Aseq=[0,1,2,3,0,1,2,3,0,1,2,3,0,1,2]),\n",
        "    envs=envs,\n",
        "    episodes=episodes,\n",
        "    episodic_verbose=0,\n",
        "    verbose_result=True\n",
        ")\n",
        "print(f\"\"\"\n",
        "{mean_return=}\n",
        "{mean_steps=}\n",
        "{sum_return=}\n",
        "{sum_steps=}\n",
        "{validate_acts=}\n",
        "\"\"\")"
      ]
    },
    {
      "cell_type": "markdown",
      "metadata": {
        "id": "yDxPFzu64xjh"
      },
      "source": [
        "# FDA"
      ]
    },
    {
      "cell_type": "code",
      "execution_count": null,
      "metadata": {
        "id": "BKTBWMv04xjh"
      },
      "outputs": [],
      "source": [
        "envs = venvs"
      ]
    },
    {
      "cell_type": "code",
      "execution_count": null,
      "metadata": {
        "id": "BolA-7Lc4xjh"
      },
      "outputs": [],
      "source": [
        "for fenv in envs:\n",
        "    print(f'fenv: {fenv}')\n",
        "    n_actions = fenv.A\n",
        "    n_edges =   fenv.sim.E\n",
        "    n_steps =   fenv.T\n",
        "    #====================================================================================================\n",
        "    #====================================================================================================\n",
        "\n",
        "    def randflowF(): return s2sdqn.fda.random_flow(0, n_actions+1, n_steps)\n",
        "    def flow2sol(x): return [ int(abs(i)) % n_actions for i in x ]\n",
        "    def flowcost(x):\n",
        "        actions = flow2sol(x)\n",
        "        total_reward, steps, _ = s2sdqn.dqn.Eval.test_solution(fenv, actions, max_steps=None, verbose=0)\n",
        "        return -total_reward\n",
        "\n",
        "    #====================================================================================================\n",
        "    #====================================================================================================\n",
        "\n",
        "\n",
        "    #print(f'{placement=}')\n",
        "    top_flows =[(np.zeros(n_steps) + j) for j in range(n_edges, n_actions)]\n",
        "\n",
        "    Flow_X, Flow_fitness  = \\\n",
        "    s2sdqn.fda.optimize(\n",
        "                    MAXITER=    50,\n",
        "                    randflowF=  randflowF,\n",
        "                    costF=      flowcost,\n",
        "                    beta=       2,\n",
        "                    alpha=      2,\n",
        "                    base_flows= top_flows,\n",
        "                    seed=       None)\n",
        "\n",
        "    for i,(fx, fi) in enumerate(zip(Flow_X, Flow_fitness)):\n",
        "        print(f'\\n{i=}\\n{flow2sol(fx)=}\\n{fi=}\\n')\n",
        "\n",
        "    # select top flows to continue\n",
        "    selected_flows=[]\n",
        "    selected_fitness = []\n",
        "    for flow,fcost in zip(Flow_X, Flow_fitness):\n",
        "        sol = flow2sol(flow)\n",
        "        if sol not in selected_flows:\n",
        "            selected_flows.append(sol)\n",
        "            selected_fitness.append(fcost)\n",
        "    selected_n = len(selected_flows)\n",
        "\n",
        "    sorted_cost = np.argsort(selected_fitness)\n",
        "    top_flows = [(np.array(selected_flows[sorted_cost[top]]), selected_fitness[sorted_cost[top]]) for top in range(selected_n)]\n",
        "    #top_costs = [selected_fitness[sorted_cost[top]] for top in range(min(n_top, selected_n))]\n",
        "\n",
        "\n",
        "    print(top_flows)\n",
        "    mean_return, mean_steps, sum_return, sum_steps, validate_acts = \\\n",
        "    s2sdqn.dqn.Eval.validate_policy(\n",
        "        envs=[fenv],\n",
        "        pie=s2sdqn.pie.FixedPie(Aseq=top_flows[0][0]),\n",
        "        episodes=1,\n",
        "        episodic_verbose=0,\n",
        "        verbose_result=True\n",
        "    )\n",
        "    print(f\"\"\"\n",
        "    {mean_return=}\n",
        "    {mean_steps=}\n",
        "    {sum_return=}\n",
        "    {sum_steps=}\n",
        "    {validate_acts=}\n",
        "    \"\"\")\n",
        "\n",
        "\n"
      ]
    },
    {
      "cell_type": "markdown",
      "metadata": {
        "id": "sPhMoCam4xjh"
      },
      "source": [
        "# End"
      ]
    }
  ],
  "metadata": {
    "colab": {
      "provenance": []
    },
    "kernelspec": {
      "display_name": "Python 3",
      "language": "python",
      "name": "python3"
    },
    "language_info": {
      "codemirror_mode": {
        "name": "ipython",
        "version": 3
      },
      "file_extension": ".py",
      "mimetype": "text/x-python",
      "name": "python",
      "nbconvert_exporter": "python",
      "pygments_lexer": "ipython3",
      "version": "3.11.4"
    }
  },
  "nbformat": 4,
  "nbformat_minor": 0
}
