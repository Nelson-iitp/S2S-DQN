{
 "cells": [
  {
   "cell_type": "code",
   "execution_count": null,
   "metadata": {},
   "outputs": [],
   "source": [
    "import os\n",
    "import numpy as np\n",
    "import matplotlib.pyplot as plt\n",
    "from known.basic import Remap\n",
    "from tqdm import tqdm\n",
    "import torch as tt\n",
    "import torch.nn as nn\n",
    "\n",
    "import warnings\n",
    "warnings.filterwarnings(\"ignore\", category=RuntimeWarning)\n",
    "warnings.filterwarnings(\"ignore\", category=UserWarning)\n",
    "\n",
    "default_device = 'cuda' if tt.cuda.is_available() else 'cpu'\n",
    "factory = dict(device=default_device, dtype=tt.float32)\n",
    "\n",
    "import deep, maco\n",
    "from deep.rl import DQN"
   ]
  },
  {
   "cell_type": "code",
   "execution_count": null,
   "metadata": {},
   "outputs": [],
   "source": []
  },
  {
   "cell_type": "code",
   "execution_count": null,
   "metadata": {},
   "outputs": [],
   "source": [
    "\n",
    "\n",
    "def tenvF(): return maco.WorkersEnv.get(duration=48, n_workers=4, n_states=5, rng_seed=10293874756, max_time_ratio=1.0)\n",
    "def venvF(): return maco.WorkersEnv.get(duration=48, n_workers=4, n_states=5, rng_seed=10293874756, max_time_ratio=1.0).freeze(0)\n",
    "def venvsF(): return [ maco.WorkersEnv.get(duration=48, n_workers=4, n_states=5, rng_seed=10293874756, max_time_ratio=1.0).freeze(f) for f in range(5)]\n",
    "\n",
    "env = tenvF()\n",
    "def pieF(**factory): return deep.rl.S2SDQN(\n",
    "    n_actions = env.A,\n",
    "    embed_dim = 64,\n",
    "\n",
    "    encoder_block_size = env.T,\n",
    "    encoder_vocab_count = env.task_vocab.count,\n",
    "    encoder_hidden_dim = 128,\n",
    "    encoder_activation = nn.GELU(),\n",
    "    encoder_num_heads = 4,\n",
    "    encoder_num_layers = 1,\n",
    "    encoder_norm_eps = 0.0, # final norm # keep zero to not use norm\n",
    "    encoder_dropout = 0.0,\n",
    "    encoder_norm_first = True,\n",
    "\n",
    "    decoder_block_size = env.T,\n",
    "    decoder_vocab_count = env.worker_vocab.count,\n",
    "    decoder_hidden_dim = 128,\n",
    "    decoder_activation = nn.GELU(),\n",
    "    decoder_num_heads = 4,\n",
    "    decoder_num_layers = 6,\n",
    "    decoder_norm_eps = 0.0, # final norm # keep zero to not use norm\n",
    "    decoder_dropout = 0.0,\n",
    "    decoder_norm_first = True,\n",
    "\n",
    "    dense_layer_dims = [128 ,128, 128],\n",
    "    dense_actFs = [nn.Tanh(), nn.ReLU() ],\n",
    "    dense_bias = True,\n",
    "\n",
    "    xavier_init = False,\n",
    "\n",
    "    has_target = True, \n",
    "    **factory)\n"
   ]
  },
  {
   "cell_type": "code",
   "execution_count": null,
   "metadata": {},
   "outputs": [],
   "source": [
    "pie = pieF(**factory)\n",
    "deep.modular.count(pie.theta)"
   ]
  },
  {
   "cell_type": "code",
   "execution_count": null,
   "metadata": {},
   "outputs": [],
   "source": [
    "tenv = tenvF()\n",
    "venvs = venvsF()"
   ]
  },
  {
   "cell_type": "code",
   "execution_count": null,
   "metadata": {},
   "outputs": [],
   "source": [
    "epochs = 500\n",
    "batch_size = 4\n",
    "learn_times = 150\n",
    "epsilon_range = (1.0, 0.1)\n",
    "\n",
    "hist = DQN.train(\n",
    "        # value params [T.V]\n",
    "            pie                 = pie,\n",
    "            pie_optA            = dict(learning_rate=0.0001, weight_decay=0.00000000, betas=(0.99, 0.999)),\n",
    "            value_lrsF          = tt.optim.lr_scheduler.LinearLR, \n",
    "            value_lrsA          = dict(start_factor=1.0, end_factor=0.1, total_iters=epochs),\n",
    "        # env params (training) [E]\n",
    "            env                 = tenv,\n",
    "            gamma               = 1.0,\n",
    "            polyak              = 0.0,\n",
    "        # learning params [L]\n",
    "            epochs              = epochs,\n",
    "            batch_size          = batch_size,\n",
    "            learn_times         = learn_times,\n",
    "        # explore-exploit [X]\n",
    "            explore_size        = batch_size*learn_times,\n",
    "            explore_seed        = None,\n",
    "            epsilon_range       = epsilon_range,\n",
    "            epsilon_seed        = None, \n",
    "        # memory params [M]\n",
    "            memory              = None,\n",
    "            memory_capacity     = 50_000, \n",
    "            memory_seed         = None, \n",
    "            min_memory          = 1_000,\n",
    "        # validation params [V]\n",
    "            validations_envs    = venvs, \n",
    "            validation_freq     = int(0.05*epochs), \n",
    "            validation_max_steps= None,\n",
    "            validation_episodes = 1,\n",
    "            validation_verbose  = 0, \n",
    "        # algorithm-specific params [A]\n",
    "            double              = False,\n",
    "            tuf                 = 6,\n",
    "            gradient_clipping   = 0.0,\n",
    "        # result params [R]\n",
    "            plot_results        = True,\n",
    "            save_at             = 's2sDQN',\n",
    "            checkpoint_freq     = int(0.1*epochs), \n",
    "            )"
   ]
  },
  {
   "cell_type": "code",
   "execution_count": null,
   "metadata": {},
   "outputs": [],
   "source": [
    "\n",
    "DQN.load_plot_training_result('s2sDQN/results.npz')"
   ]
  }
 ],
 "metadata": {
  "kernelspec": {
   "display_name": "Python 3",
   "language": "python",
   "name": "python3"
  },
  "language_info": {
   "codemirror_mode": {
    "name": "ipython",
    "version": 3
   },
   "file_extension": ".py",
   "mimetype": "text/x-python",
   "name": "python",
   "nbconvert_exporter": "python",
   "pygments_lexer": "ipython3",
   "version": "3.11.4"
  }
 },
 "nbformat": 4,
 "nbformat_minor": 2
}
